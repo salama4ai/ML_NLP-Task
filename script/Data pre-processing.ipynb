{
 "cells": [
  {
   "cell_type": "code",
   "execution_count": 1,
   "id": "cfc3bd71-3414-4c7d-9461-5d53a557b72c",
   "metadata": {},
   "outputs": [],
   "source": [
    "import pandas as pd\n",
    "import re"
   ]
  },
  {
   "cell_type": "code",
   "execution_count": 2,
   "id": "3ccb153c-c649-403a-a88a-b0946a27f415",
   "metadata": {},
   "outputs": [
    {
     "data": {
      "text/html": [
       "<div>\n",
       "<style scoped>\n",
       "    .dataframe tbody tr th:only-of-type {\n",
       "        vertical-align: middle;\n",
       "    }\n",
       "\n",
       "    .dataframe tbody tr th {\n",
       "        vertical-align: top;\n",
       "    }\n",
       "\n",
       "    .dataframe thead th {\n",
       "        text-align: right;\n",
       "    }\n",
       "</style>\n",
       "<table border=\"1\" class=\"dataframe\">\n",
       "  <thead>\n",
       "    <tr style=\"text-align: right;\">\n",
       "      <th></th>\n",
       "      <th>id</th>\n",
       "      <th>raw_txt</th>\n",
       "    </tr>\n",
       "  </thead>\n",
       "  <tbody>\n",
       "    <tr>\n",
       "      <th>0</th>\n",
       "      <td>1175358310087892992</td>\n",
       "      <td>@Nw8ieJUwaCAAreT لكن بالنهاية .. ينتفض .. يغير .</td>\n",
       "    </tr>\n",
       "    <tr>\n",
       "      <th>1</th>\n",
       "      <td>1175416117793349632</td>\n",
       "      <td>@7zNqXP0yrODdRjK يعني هذا محسوب على البشر .. ح...</td>\n",
       "    </tr>\n",
       "    <tr>\n",
       "      <th>2</th>\n",
       "      <td>1175450108898565888</td>\n",
       "      <td>@KanaanRema مبين من كلامه خليجي</td>\n",
       "    </tr>\n",
       "    <tr>\n",
       "      <th>3</th>\n",
       "      <td>1175471073770573824</td>\n",
       "      <td>@HAIDER76128900 يسلملي مرورك وروحك الحلوه💐</td>\n",
       "    </tr>\n",
       "    <tr>\n",
       "      <th>4</th>\n",
       "      <td>1175496913145217024</td>\n",
       "      <td>@hmo2406 وين هل الغيبه  اخ محمد 🌸🌺</td>\n",
       "    </tr>\n",
       "    <tr>\n",
       "      <th>...</th>\n",
       "      <td>...</td>\n",
       "      <td>...</td>\n",
       "    </tr>\n",
       "    <tr>\n",
       "      <th>458192</th>\n",
       "      <td>1019484980282580992</td>\n",
       "      <td>@Al_mhbaa_7 مبسوطين منك اللي باسطانا😅</td>\n",
       "    </tr>\n",
       "    <tr>\n",
       "      <th>458193</th>\n",
       "      <td>1021083283709407232</td>\n",
       "      <td>@Zzainabali @P_ameerah والله ماينده ابش يختي</td>\n",
       "    </tr>\n",
       "    <tr>\n",
       "      <th>458194</th>\n",
       "      <td>1017477537889431552</td>\n",
       "      <td>@Al_mhbaa_7 شو عملنا لك حنا تهربي مننا احنا مس...</td>\n",
       "    </tr>\n",
       "    <tr>\n",
       "      <th>458195</th>\n",
       "      <td>1022430374696239232</td>\n",
       "      <td>@haneenalmwla الله يبارك فيها وبالعافيه 😋😋😋</td>\n",
       "    </tr>\n",
       "    <tr>\n",
       "      <th>458196</th>\n",
       "      <td>1022409931029458944</td>\n",
       "      <td>@jolnar121 السحله ضيفي ي بتطلع لك سحليه😅😅</td>\n",
       "    </tr>\n",
       "  </tbody>\n",
       "</table>\n",
       "<p>458197 rows × 2 columns</p>\n",
       "</div>"
      ],
      "text/plain": [
       "                         id                                            raw_txt\n",
       "0       1175358310087892992   @Nw8ieJUwaCAAreT لكن بالنهاية .. ينتفض .. يغير .\n",
       "1       1175416117793349632  @7zNqXP0yrODdRjK يعني هذا محسوب على البشر .. ح...\n",
       "2       1175450108898565888                    @KanaanRema مبين من كلامه خليجي\n",
       "3       1175471073770573824         @HAIDER76128900 يسلملي مرورك وروحك الحلوه💐\n",
       "4       1175496913145217024                 @hmo2406 وين هل الغيبه  اخ محمد 🌸🌺\n",
       "...                     ...                                                ...\n",
       "458192  1019484980282580992              @Al_mhbaa_7 مبسوطين منك اللي باسطانا😅\n",
       "458193  1021083283709407232       @Zzainabali @P_ameerah والله ماينده ابش يختي\n",
       "458194  1017477537889431552  @Al_mhbaa_7 شو عملنا لك حنا تهربي مننا احنا مس...\n",
       "458195  1022430374696239232        @haneenalmwla الله يبارك فيها وبالعافيه 😋😋😋\n",
       "458196  1022409931029458944          @jolnar121 السحله ضيفي ي بتطلع لك سحليه😅😅\n",
       "\n",
       "[458197 rows x 2 columns]"
      ]
     },
     "execution_count": 2,
     "metadata": {},
     "output_type": "execute_result"
    }
   ],
   "source": [
    "df = pd.read_csv(\"../csv_files/raw_txt_df.csv\")\n",
    "df"
   ]
  },
  {
   "cell_type": "code",
   "execution_count": 6,
   "id": "2c0de57d-8cfa-46ab-b710-b74680d13281",
   "metadata": {},
   "outputs": [
    {
     "data": {
      "text/plain": [
       "' يعني هذا محسوب على البشر  حيونه ووحشيه  وتطلبون من الغرب يحترمكم ويؤمن بدينكم ولاينعتكم بالإرهاب '"
      ]
     },
     "execution_count": 6,
     "metadata": {},
     "output_type": "execute_result"
    }
   ],
   "source": [
    "txt = re.sub('([@A-Za-z0-9_]+)|[^\\w\\s]|#|http\\S+', '', df[\"raw_txt\"][1]) # cleaning up\n",
    "txt"
   ]
  },
  {
   "cell_type": "code",
   "execution_count": 4,
   "id": "a56c9f81-52cc-4ad1-b328-8ba8c29dc981",
   "metadata": {},
   "outputs": [],
   "source": [
    "# regular expressions\n",
    "url_regexp = r\"((https?|ftp|file):\\/{2,3})+([-\\w+&@#/%=~|$?!:,.]*)|(www.)+([-\\w+&@#/%=~|$?!:,.]*)\"\n",
    "email_regexp = r\"[\\w.-]+@[\\w.-]+\\.[a-zA-Z]{1,}\"\n",
    "user_name_regexp = r\"(@\\w{1,15})\"\n",
    "\n",
    "text = re.sub('([@A-Za-z0-9_]+)|[^\\w\\s]|#|http\\S+', '', text) # cleaning up\n",
    "\n",
    "# function for cleaning the text column\n",
    "def clean_text(df):\n",
    "    df[\"txt\"] = (re.sub(r'[0-9]+', '', df[\"raw_txt\"])\n",
    "          # keeping copy of the not touched text column\n",
    "          .withColumn(\"raw_text\", f.col(\"text\"))\n",
    "          # lower all characters  \n",
    "          .withColumn(\"text\", f.lower(f.col(\"text\")))\n",
    "          # Removing url links          \n",
    "          .withColumn(\"text\", f.regexp_replace(f.col(\"text\"), url_regexp, \"\"))\n",
    "          # Removing emails\n",
    "          .withColumn(\"text\", f.regexp_replace(f.col(\"text\"), email_regexp, \"\"))\n",
    "          # Removing user names\n",
    "          .withColumn(\"text\", f.regexp_replace(f.col(\"text\"), user_name_regexp, \"\"))\n",
    "          # Removing hashes\n",
    "          .withColumn(\"text\", f.regexp_replace(f.col(\"text\"), \"#\", \" \"))\n",
    "          # keep only alphabetic characters aka: Removing (numbers, punctuation, ...)\n",
    "          # .withColumn(\"text\", f.regexp_replace(f.col(\"text\"), \"[^a-z]\", \" \"))\n",
    "          # Removing all double/multiple spaces\n",
    "          .withColumn(\"text\", f.regexp_replace(f.col(\"text\"), \" +\", \" \"))\n",
    "          # Removing leading and trailing whitespaces\n",
    "          .withColumn(\"text\", f.trim(f.col(\"text\")))\n",
    "          # Ensure we don't end up with empty rows\n",
    "          .filter(\"text!= '' \")\n",
    "          \n",
    "          )\n",
    "    return df"
   ]
  },
  {
   "cell_type": "code",
   "execution_count": 5,
   "id": "326a519c-078c-4755-9359-dd31d36093a1",
   "metadata": {},
   "outputs": [
    {
     "ename": "AttributeError",
     "evalue": "'DataFrame' object has no attribute 'withColumn'",
     "output_type": "error",
     "traceback": [
      "\u001b[1;31m---------------------------------------------------------------------------\u001b[0m",
      "\u001b[1;31mAttributeError\u001b[0m                            Traceback (most recent call last)",
      "\u001b[1;32m~\\AppData\\Local\\Temp/ipykernel_5600/2724517040.py\u001b[0m in \u001b[0;36m<module>\u001b[1;34m\u001b[0m\n\u001b[1;32m----> 1\u001b[1;33m \u001b[0mdf_cleaned\u001b[0m \u001b[1;33m=\u001b[0m \u001b[0mclean_text\u001b[0m\u001b[1;33m(\u001b[0m\u001b[0mraw_df\u001b[0m\u001b[1;33m)\u001b[0m\u001b[1;33m\u001b[0m\u001b[1;33m\u001b[0m\u001b[0m\n\u001b[0m",
      "\u001b[1;32m~\\AppData\\Local\\Temp/ipykernel_5600/2304352316.py\u001b[0m in \u001b[0;36mclean_text\u001b[1;34m(df)\u001b[0m\n\u001b[0;32m      8\u001b[0m     df = (df\n\u001b[0;32m      9\u001b[0m           \u001b[1;31m# keeping copy of the not touched text column\u001b[0m\u001b[1;33m\u001b[0m\u001b[1;33m\u001b[0m\u001b[0m\n\u001b[1;32m---> 10\u001b[1;33m           \u001b[1;33m.\u001b[0m\u001b[0mwithColumn\u001b[0m\u001b[1;33m(\u001b[0m\u001b[1;34m\"raw_text\"\u001b[0m\u001b[1;33m,\u001b[0m \u001b[0mf\u001b[0m\u001b[1;33m.\u001b[0m\u001b[0mcol\u001b[0m\u001b[1;33m(\u001b[0m\u001b[1;34m\"text\"\u001b[0m\u001b[1;33m)\u001b[0m\u001b[1;33m)\u001b[0m\u001b[1;33m\u001b[0m\u001b[1;33m\u001b[0m\u001b[0m\n\u001b[0m\u001b[0;32m     11\u001b[0m           \u001b[1;31m# lower all characters\u001b[0m\u001b[1;33m\u001b[0m\u001b[1;33m\u001b[0m\u001b[0m\n\u001b[0;32m     12\u001b[0m           \u001b[1;33m.\u001b[0m\u001b[0mwithColumn\u001b[0m\u001b[1;33m(\u001b[0m\u001b[1;34m\"text\"\u001b[0m\u001b[1;33m,\u001b[0m \u001b[0mf\u001b[0m\u001b[1;33m.\u001b[0m\u001b[0mlower\u001b[0m\u001b[1;33m(\u001b[0m\u001b[0mf\u001b[0m\u001b[1;33m.\u001b[0m\u001b[0mcol\u001b[0m\u001b[1;33m(\u001b[0m\u001b[1;34m\"text\"\u001b[0m\u001b[1;33m)\u001b[0m\u001b[1;33m)\u001b[0m\u001b[1;33m)\u001b[0m\u001b[1;33m\u001b[0m\u001b[1;33m\u001b[0m\u001b[0m\n",
      "\u001b[1;32m~\\AppData\\Roaming\\Python\\Python310\\site-packages\\pandas\\core\\generic.py\u001b[0m in \u001b[0;36m__getattr__\u001b[1;34m(self, name)\u001b[0m\n\u001b[0;32m   5485\u001b[0m         ):\n\u001b[0;32m   5486\u001b[0m             \u001b[1;32mreturn\u001b[0m \u001b[0mself\u001b[0m\u001b[1;33m[\u001b[0m\u001b[0mname\u001b[0m\u001b[1;33m]\u001b[0m\u001b[1;33m\u001b[0m\u001b[1;33m\u001b[0m\u001b[0m\n\u001b[1;32m-> 5487\u001b[1;33m         \u001b[1;32mreturn\u001b[0m \u001b[0mobject\u001b[0m\u001b[1;33m.\u001b[0m\u001b[0m__getattribute__\u001b[0m\u001b[1;33m(\u001b[0m\u001b[0mself\u001b[0m\u001b[1;33m,\u001b[0m \u001b[0mname\u001b[0m\u001b[1;33m)\u001b[0m\u001b[1;33m\u001b[0m\u001b[1;33m\u001b[0m\u001b[0m\n\u001b[0m\u001b[0;32m   5488\u001b[0m \u001b[1;33m\u001b[0m\u001b[0m\n\u001b[0;32m   5489\u001b[0m     \u001b[1;32mdef\u001b[0m \u001b[0m__setattr__\u001b[0m\u001b[1;33m(\u001b[0m\u001b[0mself\u001b[0m\u001b[1;33m,\u001b[0m \u001b[0mname\u001b[0m\u001b[1;33m:\u001b[0m \u001b[0mstr\u001b[0m\u001b[1;33m,\u001b[0m \u001b[0mvalue\u001b[0m\u001b[1;33m)\u001b[0m \u001b[1;33m->\u001b[0m \u001b[1;32mNone\u001b[0m\u001b[1;33m:\u001b[0m\u001b[1;33m\u001b[0m\u001b[1;33m\u001b[0m\u001b[0m\n",
      "\u001b[1;31mAttributeError\u001b[0m: 'DataFrame' object has no attribute 'withColumn'"
     ]
    }
   ],
   "source": [
    "df_cleaned = clean_text(raw_df)"
   ]
  },
  {
   "cell_type": "code",
   "execution_count": null,
   "id": "84bdb883-0341-4d19-9dee-37da26e55265",
   "metadata": {},
   "outputs": [],
   "source": [
    "df[\"txt\"] = (re.sub(r'[0-9]+', '', df[\"raw_txt\"])\n",
    "df[\"txt\"]"
   ]
  },
  {
   "cell_type": "code",
   "execution_count": null,
   "id": "04865ac9-bc10-4506-8992-d1ab3254030a",
   "metadata": {},
   "outputs": [],
   "source": []
  },
  {
   "cell_type": "code",
   "execution_count": null,
   "id": "fc9c691d-1598-4859-864c-4a88bff7cbd6",
   "metadata": {},
   "outputs": [],
   "source": []
  },
  {
   "cell_type": "code",
   "execution_count": null,
   "id": "e471ec40-2bfa-4163-a76d-cbb8e7575f2c",
   "metadata": {},
   "outputs": [],
   "source": []
  },
  {
   "cell_type": "code",
   "execution_count": null,
   "id": "8fda1d4b-6cce-4336-9d98-f630049ed55d",
   "metadata": {},
   "outputs": [],
   "source": []
  },
  {
   "cell_type": "code",
   "execution_count": null,
   "id": "a5ab2bf9-9112-4a28-b05a-6f1e496e1e2d",
   "metadata": {},
   "outputs": [],
   "source": []
  },
  {
   "cell_type": "code",
   "execution_count": null,
   "id": "7f3db88a-2bef-4666-9f77-f78edcd8ab45",
   "metadata": {},
   "outputs": [],
   "source": []
  },
  {
   "cell_type": "code",
   "execution_count": null,
   "id": "289e3346-f8dc-47e1-b70c-34f0513b5718",
   "metadata": {},
   "outputs": [],
   "source": []
  },
  {
   "cell_type": "code",
   "execution_count": null,
   "id": "def47c0c-e607-4fc1-afa1-f431de5d4f9d",
   "metadata": {},
   "outputs": [],
   "source": []
  },
  {
   "cell_type": "code",
   "execution_count": null,
   "id": "8d26e248-08d4-4527-9ae1-8e58d312751c",
   "metadata": {},
   "outputs": [],
   "source": []
  },
  {
   "cell_type": "code",
   "execution_count": null,
   "id": "e7719d58-2445-47df-8ac9-d6be055c8e64",
   "metadata": {},
   "outputs": [],
   "source": []
  },
  {
   "cell_type": "code",
   "execution_count": null,
   "id": "84874338-9fa0-4845-a79e-50baed4ff312",
   "metadata": {},
   "outputs": [],
   "source": []
  },
  {
   "cell_type": "code",
   "execution_count": null,
   "id": "305c2551-1bf1-4e0c-a00a-3ea9bb413b42",
   "metadata": {},
   "outputs": [],
   "source": []
  },
  {
   "cell_type": "code",
   "execution_count": null,
   "id": "63c82e9c-839a-4716-bf8e-8270fc9747f2",
   "metadata": {},
   "outputs": [],
   "source": []
  },
  {
   "cell_type": "code",
   "execution_count": null,
   "id": "7e5a5302-33e7-4351-85c1-400ba88f40ec",
   "metadata": {},
   "outputs": [],
   "source": []
  },
  {
   "cell_type": "code",
   "execution_count": null,
   "id": "d8e3caf6-9936-4ccb-86f2-cdae60e9578d",
   "metadata": {},
   "outputs": [],
   "source": []
  },
  {
   "cell_type": "code",
   "execution_count": null,
   "id": "2d95e4b3-5601-44dd-a6ba-0398adca2986",
   "metadata": {},
   "outputs": [],
   "source": []
  },
  {
   "cell_type": "code",
   "execution_count": null,
   "id": "fc433b3d-e7a7-43e6-be1d-ee49205b3584",
   "metadata": {},
   "outputs": [],
   "source": []
  },
  {
   "cell_type": "code",
   "execution_count": null,
   "id": "334c6e5e-7e9d-4075-a0d2-f4cbd037625d",
   "metadata": {},
   "outputs": [],
   "source": [
    "# df = pd.merge(txt_df, label_df, left_index=True, right_index=True)\n",
    "# df = pd.concat([txt_df, label_df], axis=1)\n",
    "# df"
   ]
  }
 ],
 "metadata": {
  "kernelspec": {
   "display_name": "Python 3 (ipykernel)",
   "language": "python",
   "name": "python3"
  },
  "language_info": {
   "codemirror_mode": {
    "name": "ipython",
    "version": 3
   },
   "file_extension": ".py",
   "mimetype": "text/x-python",
   "name": "python",
   "nbconvert_exporter": "python",
   "pygments_lexer": "ipython3",
   "version": "3.10.0"
  }
 },
 "nbformat": 4,
 "nbformat_minor": 5
}
