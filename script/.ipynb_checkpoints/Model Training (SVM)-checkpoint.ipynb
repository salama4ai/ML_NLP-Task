{
 "cells": [
  {
   "cell_type": "code",
   "execution_count": 2,
   "id": "1c668593-473b-4e73-8898-a5966e1f187e",
   "metadata": {},
   "outputs": [],
   "source": [
    "import os\n",
    "from time import perf_counter, time\n",
    "import joblib\n",
    "import random\n",
    "from tqdm import tqdm\n",
    "import numpy as np\n",
    "import pandas as pd\n",
    "import matplotlib.pyplot as plt\n",
    "import seaborn as sns\n",
    "from sklearn.svm import SVC, NuSVC\n",
    "from sklearn.pipeline import Pipeline\n",
    "from sklearn.pipeline import FeatureUnion\n",
    "from sklearn.preprocessing import LabelEncoder\n",
    "from sklearn.feature_extraction.text import CountVectorizer\n",
    "from sklearn.feature_extraction.text import TfidfTransformer\n",
    "from sklearn.model_selection import train_test_split, GridSearchCV, RandomizedSearchCV\n",
    "from sklearn.metrics import f1_score, confusion_matrix, classification_report, make_scorer\n",
    "from sklearn.metrics import precision_score, recall_score, accuracy_score, confusion_matrix\n",
    "from imblearn.over_sampling import RandomOverSampler\n",
    "# from ast import literal_eval"
   ]
  },
  {
   "cell_type": "code",
   "execution_count": 3,
   "id": "3e32c7b3-6125-48ae-8faf-8c4ecc6d1345",
   "metadata": {},
   "outputs": [],
   "source": [
    "# # #trash\n",
    "# # show that setting seed resulting to generating the same output random numbers\n",
    "# from scipy.stats import norm\n",
    "# import numpy as np\n",
    "# print('Without seed')\n",
    "# print(norm.rvs(10, size = 4))\n",
    "# print(norm.rvs(10, size = 4))\n",
    "\n",
    "# print('With the same seed')\n",
    "# np.random.seed(31415) \n",
    "# print(norm.rvs(10, size = 4))\n",
    "# np.random.seed(31415) # reset the random seed back to 31415\n",
    "# print(norm.rvs(10, size = 4))\n",
    "\n",
    "# print('Without seed')\n",
    "# np.random.seed(None)\n",
    "# print(norm.rvs(10, size = 4))\n",
    "# print(norm.rvs(10, size = 4))\n",
    "\n"
   ]
  },
  {
   "cell_type": "code",
   "execution_count": 4,
   "id": "f89cabb0-c771-4fd4-afb1-8b16216a98f1",
   "metadata": {},
   "outputs": [],
   "source": [
    "seed = 7\n",
    "\n",
    "# fix random number generation aka regenerate the same random numbers every time (such as weight and bias initialization )\n",
    "def set_random_seed(seed):\n",
    "    \"\"\"Set random seed, for python, numpy\n",
    "\n",
    "    Args:\n",
    "        seed (int): Seed to be used.\n",
    "    \"\"\"\n",
    "    os.environ['PYTHONHASHSEED'] = str(seed)\n",
    "    random.seed(seed)\n",
    "    np.random.seed(seed)\n",
    "    \n",
    "set_random_seed(seed=seed)"
   ]
  },
  {
   "cell_type": "code",
   "execution_count": 5,
   "id": "61b1b0da-00ed-4844-9cef-caf517dcd0a4",
   "metadata": {},
   "outputs": [
    {
     "data": {
      "text/html": [
       "<div>\n",
       "<style scoped>\n",
       "    .dataframe tbody tr th:only-of-type {\n",
       "        vertical-align: middle;\n",
       "    }\n",
       "\n",
       "    .dataframe tbody tr th {\n",
       "        vertical-align: top;\n",
       "    }\n",
       "\n",
       "    .dataframe thead th {\n",
       "        text-align: right;\n",
       "    }\n",
       "</style>\n",
       "<table border=\"1\" class=\"dataframe\">\n",
       "  <thead>\n",
       "    <tr style=\"text-align: right;\">\n",
       "      <th></th>\n",
       "      <th>txt</th>\n",
       "      <th>dialect</th>\n",
       "    </tr>\n",
       "    <tr>\n",
       "      <th>id</th>\n",
       "      <th></th>\n",
       "      <th></th>\n",
       "    </tr>\n",
       "  </thead>\n",
       "  <tbody>\n",
       "    <tr>\n",
       "      <th>1175358310087892992</th>\n",
       "      <td>لكن بالنهايه ينتفض يغير</td>\n",
       "      <td>IQ</td>\n",
       "    </tr>\n",
       "    <tr>\n",
       "      <th>1175416117793349632</th>\n",
       "      <td>يعني هذا محسوب علي البشر حيونه وحشيه وتطلبون ...</td>\n",
       "      <td>IQ</td>\n",
       "    </tr>\n",
       "    <tr>\n",
       "      <th>1175450108898565888</th>\n",
       "      <td>مبين من كلامه خليجي</td>\n",
       "      <td>IQ</td>\n",
       "    </tr>\n",
       "    <tr>\n",
       "      <th>1175471073770573824</th>\n",
       "      <td>يسلملي مرورك وروحك الحلوه</td>\n",
       "      <td>IQ</td>\n",
       "    </tr>\n",
       "    <tr>\n",
       "      <th>1175496913145217024</th>\n",
       "      <td>وين هل الغيبه اخ محمد</td>\n",
       "      <td>IQ</td>\n",
       "    </tr>\n",
       "    <tr>\n",
       "      <th>1175668034146643968</th>\n",
       "      <td>ياخي الارهابي اذا كان عراقي سعودي فلسطيني وين...</td>\n",
       "      <td>IQ</td>\n",
       "    </tr>\n",
       "    <tr>\n",
       "      <th>1175670153884983296</th>\n",
       "      <td>مطلبي يقدم استقالته وفوكاها اعتذار</td>\n",
       "      <td>IQ</td>\n",
       "    </tr>\n",
       "    <tr>\n",
       "      <th>1175671762580856832</th>\n",
       "      <td>خلص واله لعيونكم انا ماعندي شيء معه بالعكس من...</td>\n",
       "      <td>IQ</td>\n",
       "    </tr>\n",
       "    <tr>\n",
       "      <th>1175715664398561280</th>\n",
       "      <td>يمكن سءال فات الكثير الي يصور شنو موقفه وكانه...</td>\n",
       "      <td>IQ</td>\n",
       "    </tr>\n",
       "    <tr>\n",
       "      <th>1176019816072777728</th>\n",
       "      <td>اولا اني ردت علي رجل جنوبي والي ذكر حجابها ثا...</td>\n",
       "      <td>IQ</td>\n",
       "    </tr>\n",
       "    <tr>\n",
       "      <th>1176068581487992832</th>\n",
       "      <td>واله هذا الموضوع جدا حساس ويحير اتفق معك بس ا...</td>\n",
       "      <td>IQ</td>\n",
       "    </tr>\n",
       "  </tbody>\n",
       "</table>\n",
       "</div>"
      ],
      "text/plain": [
       "                                                                   txt dialect\n",
       "id                                                                            \n",
       "1175358310087892992                           لكن بالنهايه ينتفض يغير       IQ\n",
       "1175416117793349632   يعني هذا محسوب علي البشر حيونه وحشيه وتطلبون ...      IQ\n",
       "1175450108898565888                                مبين من كلامه خليجي      IQ\n",
       "1175471073770573824                         يسلملي مرورك وروحك الحلوه       IQ\n",
       "1175496913145217024                             وين هل الغيبه اخ محمد       IQ\n",
       "1175668034146643968   ياخي الارهابي اذا كان عراقي سعودي فلسطيني وين...      IQ\n",
       "1175670153884983296                 مطلبي يقدم استقالته وفوكاها اعتذار      IQ\n",
       "1175671762580856832   خلص واله لعيونكم انا ماعندي شيء معه بالعكس من...      IQ\n",
       "1175715664398561280   يمكن سءال فات الكثير الي يصور شنو موقفه وكانه...      IQ\n",
       "1176019816072777728   اولا اني ردت علي رجل جنوبي والي ذكر حجابها ثا...      IQ\n",
       "1176068581487992832   واله هذا الموضوع جدا حساس ويحير اتفق معك بس ا...      IQ"
      ]
     },
     "execution_count": 5,
     "metadata": {},
     "output_type": "execute_result"
    }
   ],
   "source": [
    "df = pd.read_csv(\"../csv_files/preprocessed_df.csv\", index_col=\"id\"\n",
    "                 # , converters={'txt_tok': eval} # to deal with \"txt_tok\" column as a list not as a string\n",
    "                )[[\"txt\", \"dialect\"]]\n",
    "df.head(11)"
   ]
  },
  {
   "cell_type": "code",
   "execution_count": 6,
   "id": "1b8642ff-bd29-4f98-a871-60a40f0997cd",
   "metadata": {
    "tags": []
   },
   "outputs": [
    {
     "name": "stdout",
     "output_type": "stream",
     "text": [
      "EG    57582\n",
      "PL    43684\n",
      "KW    42041\n",
      "LY    36460\n",
      "QA    31049\n",
      "JO    27837\n",
      "LB    27588\n",
      "SA    26800\n",
      "AE    26241\n",
      "BH    26179\n",
      "OM    19065\n",
      "SY    16219\n",
      "DZ    16160\n",
      "IQ    15484\n",
      "SD    14371\n",
      "MA    11529\n",
      "YE     9888\n",
      "TN     9237\n",
      "Name: dialect, dtype: int64\n"
     ]
    },
    {
     "data": {
      "image/png": "[encoded data removed]",
      "text/plain": [
       "<Figure size 432x288 with 1 Axes>"
      ]
     },
     "metadata": {
      "needs_background": "light"
     },
     "output_type": "display_data"
    }
   ],
   "source": [
    "val_count = df[\"dialect\"].value_counts()\n",
    "plt.bar(x=val_count.index, height=val_count)\n",
    "plt.yticks(list(range(5000, 60000, 5000)))\n",
    "plt.grid(axis=\"y\", ls='-.') \n",
    "print(val_count)"
   ]
  },
  {
   "cell_type": "markdown",
   "id": "c599741e-616b-493e-aea7-fc9a9c3088fc",
   "metadata": {},
   "source": [
    "The brevious chart shows that the data is imbalanced,as example number of \"EG\" category instances is higher that \"TN\" or \"YE\" ones,  we will fix this issue."
   ]
  },
  {
   "cell_type": "code",
   "execution_count": 7,
   "id": "e123975d-b707-4b67-bbe0-3d2eec0e541c",
   "metadata": {},
   "outputs": [],
   "source": [
    "df[\"labels\"] = df[\"dialect\"]  # in case i remove the next cell the code will continue working correctly\n",
    "\n",
    "# # this step is optional as scikit-learn can deal with categorical labels and perform this step behind scences\n",
    "# le = LabelEncoder()\n",
    "# le.fit(df[\"dialect\"])\n",
    "# df[\"labels\"] = le.transform(df[\"dialect\"])"
   ]
  },
  {
   "cell_type": "code",
   "execution_count": 9,
   "id": "3b8df46b-5541-42a2-8b22-a67d28853ae4",
   "metadata": {},
   "outputs": [],
   "source": [
    "xtrain_imb, xtest, ytrain_imb, ytest = train_test_split(df[[\"txt\"]], df[\"labels\"], test_size=0.05, \n",
    "                                                random_state=seed, shuffle=True, stratify=df[\"labels\"])\n",
    "xtrain_imb = xtrain_imb.iloc[[99, 88, 400987, 410987, 300999, 300777, 200666, 200999, 100777, 100000]]\n",
    "ytrain_imb = ytrain_imb.iloc[[99, 88, 400987, 410987, 300999, 300777, 200666, 200999, 100777, 100000]]\n",
    "# xtrain_imb.shape, type(xtrain_imb.iloc[0,0])"
   ]
  },
  {
   "cell_type": "markdown",
   "id": "374ce68d-1aea-4db5-897c-a12d63be107d",
   "metadata": {},
   "source": [
    "- fix imbalance data using RandomOverSampler method."
   ]
  },
  {
   "cell_type": "code",
   "execution_count": 10,
   "id": "20339049-5748-437b-a14a-33271122b02c",
   "metadata": {},
   "outputs": [],
   "source": [
    "# make oversampling to fix the imbalanced classes\n",
    "ros = RandomOverSampler(random_state=seed)\n",
    "xtrain, ytrain = ros.fit_resample(xtrain_imb, ytrain_imb)"
   ]
  },
  {
   "cell_type": "code",
   "execution_count": 11,
   "id": "34a415b0-b63c-4fff-a7d2-edd3b031bb7d",
   "metadata": {},
   "outputs": [],
   "source": [
    "xtrain = xtrain.squeeze()"
   ]
  },
  {
   "cell_type": "code",
   "execution_count": 12,
   "id": "e130fcad-d2d9-4e4e-8425-4ef048a6214e",
   "metadata": {},
   "outputs": [],
   "source": [
    "svm = NuSVC(random_state=seed, \n",
    "            # kernel=\"linear\"\n",
    "           )\n",
    "\n",
    "svm = SVC(random_state=seed)\n",
    "\n",
    "pipeline = Pipeline([\n",
    "                     ('cw26', FeatureUnion([\n",
    "                                            ('word_features', Pipeline([\n",
    "                                                                        ('ngram_w', CountVectorizer(ngram_range=(2, 6),\n",
    "                                                                                                   analyzer='word')),\n",
    "                                                                        ('tfidf_w', TfidfTransformer())\n",
    "                                                                        ])),\n",
    "                                            ('char_features', Pipeline([\n",
    "                                                                        ('ngram_c', CountVectorizer(ngram_range=(2, 6), \n",
    "                                                                                                   analyzer='char')),\n",
    "                                                                        ('tfidf_c', TfidfTransformer())\n",
    "                                                                        ])),\n",
    "                                             ])),\n",
    "                     ('svm', svm)\n",
    "                    ])"
   ]
  },
  {
   "cell_type": "code",
   "execution_count": 13,
   "id": "bbddcf6a-1b89-4b28-a59f-4c543bb9e9e8",
   "metadata": {},
   "outputs": [],
   "source": [
    "# pipeline.fit(xtrain, ytrain)\n",
    "# pipeline.steps#.get_params()#.get_feature_names_out()#[:33]"
   ]
  },
  {
   "cell_type": "code",
   "execution_count": 20,
   "id": "e385ee9d-4052-45ca-9bf0-c721aec34684",
   "metadata": {},
   "outputs": [
    {
     "name": "stdout",
     "output_type": "stream",
     "text": [
      "begin moment = 747.3248432\n",
      "Fitting 2 folds for each of 2 candidates, totalling 4 fits\n",
      "[CV 1/2; 1/2] START svm__kernel=linear..........................................\n",
      "[CV 1/2; 1/2] END svm__kernel=linear; f1: (train=nan, test=nan) f1_scored: (train=nan, test=nan) precision: (train=nan, test=nan) recall: (train=nan, test=nan) score: (train=nan, test=nan) total time=   0.0s\n",
      "[CV 2/2; 1/2] START svm__kernel=linear..........................................\n",
      "[CV 2/2; 1/2] END svm__kernel=linear; f1: (train=nan, test=nan) f1_scored: (train=nan, test=nan) precision: (train=nan, test=nan) recall: (train=nan, test=nan) score: (train=nan, test=nan) total time=   0.0s\n",
      "[CV 1/2; 2/2] START svm__kernel=rbf.............................................\n",
      "[CV 1/2; 2/2] END svm__kernel=rbf; f1: (train=nan, test=nan) f1_scored: (train=nan, test=nan) precision: (train=nan, test=nan) recall: (train=nan, test=nan) score: (train=nan, test=nan) total time=   0.0s\n",
      "[CV 2/2; 2/2] START svm__kernel=rbf.............................................\n",
      "[CV 2/2; 2/2] END svm__kernel=rbf; f1: (train=nan, test=nan) f1_scored: (train=nan, test=nan) precision: (train=nan, test=nan) recall: (train=nan, test=nan) score: (train=nan, test=nan) total time=   0.0s\n",
      "completion moment = 747.4724525\n",
      "elabsed time is 0.0 hours: 0.0 minuts\n"
     ]
    },
    {
     "name": "stderr",
     "output_type": "stream",
     "text": [
      "C:\\Users\\huzyfa\\anaconda3\\lib\\site-packages\\sklearn\\model_selection\\_validation.py:776: UserWarning: Scoring failed. The score on this train-test partition for these parameters will be set to nan. Details: \n",
      "Traceback (most recent call last):\n",
      "  File \"C:\\Users\\huzyfa\\anaconda3\\lib\\site-packages\\sklearn\\model_selection\\_validation.py\", line 767, in _score\n",
      "    scores = scorer(estimator, X_test, y_test)\n",
      "  File \"C:\\Users\\huzyfa\\anaconda3\\lib\\site-packages\\sklearn\\metrics\\_scorer.py\", line 106, in __call__\n",
      "    score = scorer._score(cached_call, estimator, *args, **kwargs)\n",
      "  File \"C:\\Users\\huzyfa\\anaconda3\\lib\\site-packages\\sklearn\\metrics\\_scorer.py\", line 267, in _score\n",
      "    return self._sign * self._score_func(y_true, y_pred, **self._kwargs)\n",
      "  File \"C:\\Users\\huzyfa\\anaconda3\\lib\\site-packages\\sklearn\\metrics\\_classification.py\", line 1776, in precision_score\n",
      "    p, _, _, _ = precision_recall_fscore_support(\n",
      "  File \"C:\\Users\\huzyfa\\anaconda3\\lib\\site-packages\\sklearn\\metrics\\_classification.py\", line 1563, in precision_recall_fscore_support\n",
      "    labels = _check_set_wise_labels(y_true, y_pred, average, labels, pos_label)\n",
      "  File \"C:\\Users\\huzyfa\\anaconda3\\lib\\site-packages\\sklearn\\metrics\\_classification.py\", line 1381, in _check_set_wise_labels\n",
      "    raise ValueError(\n",
      "ValueError: Target is multiclass but average='binary'. Please choose another average setting, one of [None, 'micro', 'macro', 'weighted'].\n",
      "\n",
      "  warnings.warn(\n",
      "C:\\Users\\huzyfa\\anaconda3\\lib\\site-packages\\sklearn\\model_selection\\_validation.py:776: UserWarning: Scoring failed. The score on this train-test partition for these parameters will be set to nan. Details: \n",
      "Traceback (most recent call last):\n",
      "  File \"C:\\Users\\huzyfa\\anaconda3\\lib\\site-packages\\sklearn\\model_selection\\_validation.py\", line 767, in _score\n",
      "    scores = scorer(estimator, X_test, y_test)\n",
      "  File \"C:\\Users\\huzyfa\\anaconda3\\lib\\site-packages\\sklearn\\metrics\\_scorer.py\", line 106, in __call__\n",
      "    score = scorer._score(cached_call, estimator, *args, **kwargs)\n",
      "  File \"C:\\Users\\huzyfa\\anaconda3\\lib\\site-packages\\sklearn\\metrics\\_scorer.py\", line 267, in _score\n",
      "    return self._sign * self._score_func(y_true, y_pred, **self._kwargs)\n",
      "  File \"C:\\Users\\huzyfa\\anaconda3\\lib\\site-packages\\sklearn\\metrics\\_classification.py\", line 1776, in precision_score\n",
      "    p, _, _, _ = precision_recall_fscore_support(\n",
      "  File \"C:\\Users\\huzyfa\\anaconda3\\lib\\site-packages\\sklearn\\metrics\\_classification.py\", line 1563, in precision_recall_fscore_support\n",
      "    labels = _check_set_wise_labels(y_true, y_pred, average, labels, pos_label)\n",
      "  File \"C:\\Users\\huzyfa\\anaconda3\\lib\\site-packages\\sklearn\\metrics\\_classification.py\", line 1381, in _check_set_wise_labels\n",
      "    raise ValueError(\n",
      "ValueError: Target is multiclass but average='binary'. Please choose another average setting, one of [None, 'micro', 'macro', 'weighted'].\n",
      "\n",
      "  warnings.warn(\n",
      "C:\\Users\\huzyfa\\anaconda3\\lib\\site-packages\\sklearn\\model_selection\\_validation.py:776: UserWarning: Scoring failed. The score on this train-test partition for these parameters will be set to nan. Details: \n",
      "Traceback (most recent call last):\n",
      "  File \"C:\\Users\\huzyfa\\anaconda3\\lib\\site-packages\\sklearn\\model_selection\\_validation.py\", line 767, in _score\n",
      "    scores = scorer(estimator, X_test, y_test)\n",
      "  File \"C:\\Users\\huzyfa\\anaconda3\\lib\\site-packages\\sklearn\\metrics\\_scorer.py\", line 106, in __call__\n",
      "    score = scorer._score(cached_call, estimator, *args, **kwargs)\n",
      "  File \"C:\\Users\\huzyfa\\anaconda3\\lib\\site-packages\\sklearn\\metrics\\_scorer.py\", line 267, in _score\n",
      "    return self._sign * self._score_func(y_true, y_pred, **self._kwargs)\n",
      "  File \"C:\\Users\\huzyfa\\anaconda3\\lib\\site-packages\\sklearn\\metrics\\_classification.py\", line 1776, in precision_score\n",
      "    p, _, _, _ = precision_recall_fscore_support(\n",
      "  File \"C:\\Users\\huzyfa\\anaconda3\\lib\\site-packages\\sklearn\\metrics\\_classification.py\", line 1563, in precision_recall_fscore_support\n",
      "    labels = _check_set_wise_labels(y_true, y_pred, average, labels, pos_label)\n",
      "  File \"C:\\Users\\huzyfa\\anaconda3\\lib\\site-packages\\sklearn\\metrics\\_classification.py\", line 1381, in _check_set_wise_labels\n",
      "    raise ValueError(\n",
      "ValueError: Target is multiclass but average='binary'. Please choose another average setting, one of [None, 'micro', 'macro', 'weighted'].\n",
      "\n",
      "  warnings.warn(\n",
      "C:\\Users\\huzyfa\\anaconda3\\lib\\site-packages\\sklearn\\model_selection\\_validation.py:776: UserWarning: Scoring failed. The score on this train-test partition for these parameters will be set to nan. Details: \n",
      "Traceback (most recent call last):\n",
      "  File \"C:\\Users\\huzyfa\\anaconda3\\lib\\site-packages\\sklearn\\model_selection\\_validation.py\", line 767, in _score\n",
      "    scores = scorer(estimator, X_test, y_test)\n",
      "  File \"C:\\Users\\huzyfa\\anaconda3\\lib\\site-packages\\sklearn\\metrics\\_scorer.py\", line 106, in __call__\n",
      "    score = scorer._score(cached_call, estimator, *args, **kwargs)\n",
      "  File \"C:\\Users\\huzyfa\\anaconda3\\lib\\site-packages\\sklearn\\metrics\\_scorer.py\", line 267, in _score\n",
      "    return self._sign * self._score_func(y_true, y_pred, **self._kwargs)\n",
      "  File \"C:\\Users\\huzyfa\\anaconda3\\lib\\site-packages\\sklearn\\metrics\\_classification.py\", line 1776, in precision_score\n",
      "    p, _, _, _ = precision_recall_fscore_support(\n",
      "  File \"C:\\Users\\huzyfa\\anaconda3\\lib\\site-packages\\sklearn\\metrics\\_classification.py\", line 1563, in precision_recall_fscore_support\n",
      "    labels = _check_set_wise_labels(y_true, y_pred, average, labels, pos_label)\n",
      "  File \"C:\\Users\\huzyfa\\anaconda3\\lib\\site-packages\\sklearn\\metrics\\_classification.py\", line 1381, in _check_set_wise_labels\n",
      "    raise ValueError(\n",
      "ValueError: Target is multiclass but average='binary'. Please choose another average setting, one of [None, 'micro', 'macro', 'weighted'].\n",
      "\n",
      "  warnings.warn(\n",
      "C:\\Users\\huzyfa\\anaconda3\\lib\\site-packages\\sklearn\\model_selection\\_validation.py:776: UserWarning: Scoring failed. The score on this train-test partition for these parameters will be set to nan. Details: \n",
      "Traceback (most recent call last):\n",
      "  File \"C:\\Users\\huzyfa\\anaconda3\\lib\\site-packages\\sklearn\\model_selection\\_validation.py\", line 767, in _score\n",
      "    scores = scorer(estimator, X_test, y_test)\n",
      "  File \"C:\\Users\\huzyfa\\anaconda3\\lib\\site-packages\\sklearn\\metrics\\_scorer.py\", line 106, in __call__\n",
      "    score = scorer._score(cached_call, estimator, *args, **kwargs)\n",
      "  File \"C:\\Users\\huzyfa\\anaconda3\\lib\\site-packages\\sklearn\\metrics\\_scorer.py\", line 267, in _score\n",
      "    return self._sign * self._score_func(y_true, y_pred, **self._kwargs)\n",
      "  File \"C:\\Users\\huzyfa\\anaconda3\\lib\\site-packages\\sklearn\\metrics\\_classification.py\", line 1776, in precision_score\n",
      "    p, _, _, _ = precision_recall_fscore_support(\n",
      "  File \"C:\\Users\\huzyfa\\anaconda3\\lib\\site-packages\\sklearn\\metrics\\_classification.py\", line 1563, in precision_recall_fscore_support\n",
      "    labels = _check_set_wise_labels(y_true, y_pred, average, labels, pos_label)\n",
      "  File \"C:\\Users\\huzyfa\\anaconda3\\lib\\site-packages\\sklearn\\metrics\\_classification.py\", line 1381, in _check_set_wise_labels\n",
      "    raise ValueError(\n",
      "ValueError: Target is multiclass but average='binary'. Please choose another average setting, one of [None, 'micro', 'macro', 'weighted'].\n",
      "\n",
      "  warnings.warn(\n",
      "C:\\Users\\huzyfa\\anaconda3\\lib\\site-packages\\sklearn\\model_selection\\_validation.py:776: UserWarning: Scoring failed. The score on this train-test partition for these parameters will be set to nan. Details: \n",
      "Traceback (most recent call last):\n",
      "  File \"C:\\Users\\huzyfa\\anaconda3\\lib\\site-packages\\sklearn\\model_selection\\_validation.py\", line 767, in _score\n",
      "    scores = scorer(estimator, X_test, y_test)\n",
      "  File \"C:\\Users\\huzyfa\\anaconda3\\lib\\site-packages\\sklearn\\metrics\\_scorer.py\", line 106, in __call__\n",
      "    score = scorer._score(cached_call, estimator, *args, **kwargs)\n",
      "  File \"C:\\Users\\huzyfa\\anaconda3\\lib\\site-packages\\sklearn\\metrics\\_scorer.py\", line 267, in _score\n",
      "    return self._sign * self._score_func(y_true, y_pred, **self._kwargs)\n",
      "  File \"C:\\Users\\huzyfa\\anaconda3\\lib\\site-packages\\sklearn\\metrics\\_classification.py\", line 1776, in precision_score\n",
      "    p, _, _, _ = precision_recall_fscore_support(\n",
      "  File \"C:\\Users\\huzyfa\\anaconda3\\lib\\site-packages\\sklearn\\metrics\\_classification.py\", line 1563, in precision_recall_fscore_support\n",
      "    labels = _check_set_wise_labels(y_true, y_pred, average, labels, pos_label)\n",
      "  File \"C:\\Users\\huzyfa\\anaconda3\\lib\\site-packages\\sklearn\\metrics\\_classification.py\", line 1381, in _check_set_wise_labels\n",
      "    raise ValueError(\n",
      "ValueError: Target is multiclass but average='binary'. Please choose another average setting, one of [None, 'micro', 'macro', 'weighted'].\n",
      "\n",
      "  warnings.warn(\n",
      "C:\\Users\\huzyfa\\anaconda3\\lib\\site-packages\\sklearn\\model_selection\\_validation.py:776: UserWarning: Scoring failed. The score on this train-test partition for these parameters will be set to nan. Details: \n",
      "Traceback (most recent call last):\n",
      "  File \"C:\\Users\\huzyfa\\anaconda3\\lib\\site-packages\\sklearn\\model_selection\\_validation.py\", line 767, in _score\n",
      "    scores = scorer(estimator, X_test, y_test)\n",
      "  File \"C:\\Users\\huzyfa\\anaconda3\\lib\\site-packages\\sklearn\\metrics\\_scorer.py\", line 106, in __call__\n",
      "    score = scorer._score(cached_call, estimator, *args, **kwargs)\n",
      "  File \"C:\\Users\\huzyfa\\anaconda3\\lib\\site-packages\\sklearn\\metrics\\_scorer.py\", line 267, in _score\n",
      "    return self._sign * self._score_func(y_true, y_pred, **self._kwargs)\n",
      "  File \"C:\\Users\\huzyfa\\anaconda3\\lib\\site-packages\\sklearn\\metrics\\_classification.py\", line 1776, in precision_score\n",
      "    p, _, _, _ = precision_recall_fscore_support(\n",
      "  File \"C:\\Users\\huzyfa\\anaconda3\\lib\\site-packages\\sklearn\\metrics\\_classification.py\", line 1563, in precision_recall_fscore_support\n",
      "    labels = _check_set_wise_labels(y_true, y_pred, average, labels, pos_label)\n",
      "  File \"C:\\Users\\huzyfa\\anaconda3\\lib\\site-packages\\sklearn\\metrics\\_classification.py\", line 1381, in _check_set_wise_labels\n",
      "    raise ValueError(\n",
      "ValueError: Target is multiclass but average='binary'. Please choose another average setting, one of [None, 'micro', 'macro', 'weighted'].\n",
      "\n",
      "  warnings.warn(\n",
      "C:\\Users\\huzyfa\\anaconda3\\lib\\site-packages\\sklearn\\model_selection\\_validation.py:776: UserWarning: Scoring failed. The score on this train-test partition for these parameters will be set to nan. Details: \n",
      "Traceback (most recent call last):\n",
      "  File \"C:\\Users\\huzyfa\\anaconda3\\lib\\site-packages\\sklearn\\model_selection\\_validation.py\", line 767, in _score\n",
      "    scores = scorer(estimator, X_test, y_test)\n",
      "  File \"C:\\Users\\huzyfa\\anaconda3\\lib\\site-packages\\sklearn\\metrics\\_scorer.py\", line 106, in __call__\n",
      "    score = scorer._score(cached_call, estimator, *args, **kwargs)\n",
      "  File \"C:\\Users\\huzyfa\\anaconda3\\lib\\site-packages\\sklearn\\metrics\\_scorer.py\", line 267, in _score\n",
      "    return self._sign * self._score_func(y_true, y_pred, **self._kwargs)\n",
      "  File \"C:\\Users\\huzyfa\\anaconda3\\lib\\site-packages\\sklearn\\metrics\\_classification.py\", line 1776, in precision_score\n",
      "    p, _, _, _ = precision_recall_fscore_support(\n",
      "  File \"C:\\Users\\huzyfa\\anaconda3\\lib\\site-packages\\sklearn\\metrics\\_classification.py\", line 1563, in precision_recall_fscore_support\n",
      "    labels = _check_set_wise_labels(y_true, y_pred, average, labels, pos_label)\n",
      "  File \"C:\\Users\\huzyfa\\anaconda3\\lib\\site-packages\\sklearn\\metrics\\_classification.py\", line 1381, in _check_set_wise_labels\n",
      "    raise ValueError(\n",
      "ValueError: Target is multiclass but average='binary'. Please choose another average setting, one of [None, 'micro', 'macro', 'weighted'].\n",
      "\n",
      "  warnings.warn(\n",
      "C:\\Users\\huzyfa\\anaconda3\\lib\\site-packages\\sklearn\\model_selection\\_search.py:953: UserWarning: One or more of the test scores are non-finite: [nan nan]\n",
      "  warnings.warn(\n",
      "C:\\Users\\huzyfa\\anaconda3\\lib\\site-packages\\sklearn\\model_selection\\_search.py:953: UserWarning: One or more of the train scores are non-finite: [nan nan]\n",
      "  warnings.warn(\n"
     ]
    },
    {
     "data": {
      "text/html": [
       "<div>\n",
       "<style scoped>\n",
       "    .dataframe tbody tr th:only-of-type {\n",
       "        vertical-align: middle;\n",
       "    }\n",
       "\n",
       "    .dataframe tbody tr th {\n",
       "        vertical-align: top;\n",
       "    }\n",
       "\n",
       "    .dataframe thead th {\n",
       "        text-align: right;\n",
       "    }\n",
       "</style>\n",
       "<table border=\"1\" class=\"dataframe\">\n",
       "  <thead>\n",
       "    <tr style=\"text-align: right;\">\n",
       "      <th></th>\n",
       "    </tr>\n",
       "  </thead>\n",
       "  <tbody>\n",
       "    <tr>\n",
       "      <th>0</th>\n",
       "    </tr>\n",
       "    <tr>\n",
       "      <th>1</th>\n",
       "    </tr>\n",
       "  </tbody>\n",
       "</table>\n",
       "</div>"
      ],
      "text/plain": [
       "Empty DataFrame\n",
       "Columns: []\n",
       "Index: [0, 1]"
      ]
     },
     "execution_count": 20,
     "metadata": {},
     "output_type": "execute_result"
    }
   ],
   "source": [
    "param_grid={\"svm__kernel\" : ['linear', 'rbf']}\n",
    "\n",
    "def customized_func(ytrue, ypred):\n",
    "    return f1_score(ytrue, ypred)\n",
    "\n",
    "refit = \"f1_scored\"\n",
    "scr = refit\n",
    "scoring={\"precision\":make_scorer(precision_score), \n",
    "         \"recall\":make_scorer(recall_score),\n",
    "         \"f1\":make_scorer(f1_score), \n",
    "         \"score\":make_scorer(accuracy_score), \n",
    "         \"f1_scored\": make_scorer(customized_func)}\n",
    "         \n",
    "model = GridSearchCV(estimator=pipeline, \n",
    "                     param_grid=param_grid, \n",
    "                     cv=2, \n",
    "                     scoring=scoring, \n",
    "                     refit=refit, \n",
    "                     n_jobs=1, \n",
    "                     return_train_score=True, \n",
    "                     verbose=1000)\n",
    "begin_moment = perf_counter()\n",
    "print(f\"begin moment = {begin_moment}\")\n",
    "model.get_params()\n",
    "model.fit(xtrain, ytrain)\n",
    "completion_moment = perf_counter()\n",
    "elapsed_time = (completion_moment-begin_moment)//60\n",
    "print(f\"completion moment = {completion_moment}\")\n",
    "print(f\"elabsed time is {elapsed_time//60} hours: {elapsed_time%60} minuts\")\n",
    "\n",
    "results = pd.DataFrame(model.cv_results_\n",
    "                      ).sort_values(by=f\"rank_test_{scr}\")#.loc[:,df.columns.str.contains('rank')]\n",
    "\n",
    "results[:5].filter(regex='rank | mean | params')"
   ]
  },
  {
   "cell_type": "code",
   "execution_count": 29,
   "id": "2d983c74-596d-49e6-b8f5-ae7861c85ede",
   "metadata": {},
   "outputs": [
    {
     "data": {
      "text/plain": [
       "dict_keys(['memory', 'steps', 'verbose', 'cw26', 'svm', 'cw26__n_jobs', 'cw26__transformer_list', 'cw26__transformer_weights', 'cw26__verbose', 'cw26__word_features', 'cw26__char_features', 'cw26__word_features__memory', 'cw26__word_features__steps', 'cw26__word_features__verbose', 'cw26__word_features__ngram_w', 'cw26__word_features__tfidf_w', 'cw26__word_features__ngram_w__analyzer', 'cw26__word_features__ngram_w__binary', 'cw26__word_features__ngram_w__decode_error', 'cw26__word_features__ngram_w__dtype', 'cw26__word_features__ngram_w__encoding', 'cw26__word_features__ngram_w__input', 'cw26__word_features__ngram_w__lowercase', 'cw26__word_features__ngram_w__max_df', 'cw26__word_features__ngram_w__max_features', 'cw26__word_features__ngram_w__min_df', 'cw26__word_features__ngram_w__ngram_range', 'cw26__word_features__ngram_w__preprocessor', 'cw26__word_features__ngram_w__stop_words', 'cw26__word_features__ngram_w__strip_accents', 'cw26__word_features__ngram_w__token_pattern', 'cw26__word_features__ngram_w__tokenizer', 'cw26__word_features__ngram_w__vocabulary', 'cw26__word_features__tfidf_w__norm', 'cw26__word_features__tfidf_w__smooth_idf', 'cw26__word_features__tfidf_w__sublinear_tf', 'cw26__word_features__tfidf_w__use_idf', 'cw26__char_features__memory', 'cw26__char_features__steps', 'cw26__char_features__verbose', 'cw26__char_features__ngram_c', 'cw26__char_features__tfidf_c', 'cw26__char_features__ngram_c__analyzer', 'cw26__char_features__ngram_c__binary', 'cw26__char_features__ngram_c__decode_error', 'cw26__char_features__ngram_c__dtype', 'cw26__char_features__ngram_c__encoding', 'cw26__char_features__ngram_c__input', 'cw26__char_features__ngram_c__lowercase', 'cw26__char_features__ngram_c__max_df', 'cw26__char_features__ngram_c__max_features', 'cw26__char_features__ngram_c__min_df', 'cw26__char_features__ngram_c__ngram_range', 'cw26__char_features__ngram_c__preprocessor', 'cw26__char_features__ngram_c__stop_words', 'cw26__char_features__ngram_c__strip_accents', 'cw26__char_features__ngram_c__token_pattern', 'cw26__char_features__ngram_c__tokenizer', 'cw26__char_features__ngram_c__vocabulary', 'cw26__char_features__tfidf_c__norm', 'cw26__char_features__tfidf_c__smooth_idf', 'cw26__char_features__tfidf_c__sublinear_tf', 'cw26__char_features__tfidf_c__use_idf', 'svm__C', 'svm__break_ties', 'svm__cache_size', 'svm__class_weight', 'svm__coef0', 'svm__decision_function_shape', 'svm__degree', 'svm__gamma', 'svm__kernel', 'svm__max_iter', 'svm__probability', 'svm__random_state', 'svm__shrinking', 'svm__tol', 'svm__verbose'])"
      ]
     },
     "execution_count": 29,
     "metadata": {},
     "output_type": "execute_result"
    }
   ],
   "source": [
    "pipeline.get_params().keys()"
   ]
  },
  {
   "cell_type": "code",
   "execution_count": null,
   "id": "adeae19a-ce22-44b4-b402-11e0a6b208c2",
   "metadata": {},
   "outputs": [],
   "source": [
    "get_params(deep=True)"
   ]
  },
  {
   "cell_type": "code",
   "execution_count": null,
   "id": "0ad8aacc-dda7-46c0-90c3-f55eede9124c",
   "metadata": {},
   "outputs": [],
   "source": []
  },
  {
   "cell_type": "code",
   "execution_count": 37,
   "id": "bb9a3114-5aba-4db7-9f67-de60c7bbb786",
   "metadata": {},
   "outputs": [],
   "source": [
    "# param_grid={\n",
    "# # \"model__svm__kernel\" : ['linear', 'rbf']\n",
    "# }\n",
    "\n",
    "\n",
    "# def customized_fun(ytrue, ypred):\n",
    "#     return f1_score(ytrue, ypred)\n",
    "\n",
    "# refit = \"f1_scored\"\n",
    "# scr = refit\n",
    "# scoring={\n",
    "# #          \"precision\":make_scorer(precision_score), \n",
    "# #          \"recall\":make_scorer(recall_score),\n",
    "#          \"f1\":make_scorer(f1_score), \n",
    "#          \"score\":make_scorer(accuracy_score), \n",
    "#          \"f1_scored\": make_scorer(customized_fun)\n",
    "# }\n",
    "         \n",
    "# model = GridSearchCV(pipeline, param_grid, cv=3\n",
    "#                      # , scoring=scoring\n",
    "#                      , refit=refit\n",
    "#                     )\n",
    "# # model.get_params().keys()\n",
    "# model.fit(xtrain, ytrain)\n",
    "\n",
    "# # results = pd.DataFrame(m_scv.cv_results_).sort_values(\n",
    "# #                                                       by=f\"rank_test_{scr}\")\n",
    "# #                                                       # .loc[:,df.columns.str.contains('rank')]\n",
    "\n",
    "# # results[:5].filter(regex='rank | mean | params')"
   ]
  },
  {
   "cell_type": "code",
   "execution_count": null,
   "id": "81935fb6-f5a8-42f9-b0c4-5f8401d82982",
   "metadata": {},
   "outputs": [],
   "source": [
    "m_scv.best_score_, m_scv.best_params_, m_scv.best_estimator_"
   ]
  },
  {
   "cell_type": "code",
   "execution_count": null,
   "id": "60b0d473-470c-436c-a3c0-9201f864006e",
   "metadata": {},
   "outputs": [],
   "source": [
    "ypred = model.predict(xtest)           #predict"
   ]
  },
  {
   "cell_type": "code",
   "execution_count": null,
   "id": "2c68d2e7-78c3-4cd9-99a0-497c7bab4255",
   "metadata": {},
   "outputs": [],
   "source": [
    "ypred.score(ytest)"
   ]
  },
  {
   "cell_type": "code",
   "execution_count": null,
   "id": "da334bde-0551-4b28-8684-46ac5fbebbdf",
   "metadata": {},
   "outputs": [],
   "source": [
    "for score in [\"mean_test_min_both\", \"score\", \"f1\"]:    \n",
    "    plt.plot([i[1] for i in results[\"param_svc__kernel\"]], df[score], label=score)"
   ]
  },
  {
   "cell_type": "code",
   "execution_count": null,
   "id": "4ec39913-da14-4298-96f6-fc648e1970e8",
   "metadata": {},
   "outputs": [],
   "source": []
  },
  {
   "cell_type": "code",
   "execution_count": null,
   "id": "24b3b628-c1bf-48aa-9b9c-95abc2522a6f",
   "metadata": {},
   "outputs": [],
   "source": []
  },
  {
   "cell_type": "code",
   "execution_count": null,
   "id": "bd68d628-0c6f-4d8e-a778-a4de6a8c588b",
   "metadata": {},
   "outputs": [],
   "source": []
  },
  {
   "cell_type": "code",
   "execution_count": null,
   "id": "c0180683-c2f6-4713-ac59-69322c0c961e",
   "metadata": {},
   "outputs": [],
   "source": []
  },
  {
   "cell_type": "code",
   "execution_count": null,
   "id": "db02c46f-bfd7-4e50-86a5-8150abcda897",
   "metadata": {},
   "outputs": [],
   "source": []
  },
  {
   "cell_type": "code",
   "execution_count": null,
   "id": "f319c905-1090-4187-ae4d-81a6719147bf",
   "metadata": {},
   "outputs": [],
   "source": []
  },
  {
   "cell_type": "code",
   "execution_count": null,
   "id": "af8fbec4-fd33-4d5c-9719-329640586cd3",
   "metadata": {},
   "outputs": [],
   "source": []
  },
  {
   "cell_type": "code",
   "execution_count": null,
   "id": "f20ecdb4-b565-44dc-8a0d-f8cb2ec79b94",
   "metadata": {},
   "outputs": [],
   "source": []
  },
  {
   "cell_type": "code",
   "execution_count": null,
   "id": "38e5e079-2d7c-4ed8-9e7b-1c8975704a64",
   "metadata": {},
   "outputs": [],
   "source": []
  },
  {
   "cell_type": "code",
   "execution_count": null,
   "id": "de2b5415-25ca-43b6-9d5b-33c2646bdc80",
   "metadata": {},
   "outputs": [],
   "source": []
  },
  {
   "cell_type": "code",
   "execution_count": 123,
   "id": "bd897153-1b73-4daf-a277-e7a4dd9851dd",
   "metadata": {},
   "outputs": [
    {
     "data": {
      "text/plain": [
       "0     JO\n",
       "1     JO\n",
       "2     PL\n",
       "3     QA\n",
       "4     SY\n",
       "5     KW\n",
       "6     SY\n",
       "7     JO\n",
       "8     QA\n",
       "9     EG\n",
       "10    EG\n",
       "11    EG\n",
       "12    KW\n",
       "13    KW\n",
       "14    PL\n",
       "15    PL\n",
       "16    QA\n",
       "17    SY\n",
       "Name: labels, dtype: object"
      ]
     },
     "execution_count": 123,
     "metadata": {},
     "output_type": "execute_result"
    }
   ],
   "source": [
    "ytrain"
   ]
  },
  {
   "cell_type": "code",
   "execution_count": 124,
   "id": "82888de4-2bd4-4cce-9d99-39ca26638096",
   "metadata": {},
   "outputs": [
    {
     "data": {
      "image/png": "[encoded data removed]",
      "text/plain": [
       "<Figure size 432x288 with 1 Axes>"
      ]
     },
     "metadata": {
      "needs_background": "light"
     },
     "output_type": "display_data"
    }
   ],
   "source": [
    "ytrain.value_counts().plot.bar()\n",
    "plt.show()"
   ]
  },
  {
   "cell_type": "code",
   "execution_count": 65,
   "id": "f9817bf2-e059-45aa-9fbe-bd465c28ec2a",
   "metadata": {},
   "outputs": [
    {
     "data": {
      "text/plain": [
       "JO    3\n",
       "PL    3\n",
       "QA    3\n",
       "SY    3\n",
       "KW    3\n",
       "EG    3\n",
       "Name: labels, dtype: int64"
      ]
     },
     "execution_count": 125,
     "metadata": {},
     "output_type": "execute_result"
    }
   ],
   "source": [
    "ytrain.value_counts()"
   ]
  },
  {
   "cell_type": "code",
   "execution_count": 66,
   "id": "7a100cde-aaf0-46d8-b510-5b4d731a26fc",
   "metadata": {},
   "outputs": [
    {
     "data": {
      "text/plain": [
       "id\n",
       "914156838148464640      حسبتها وطلعت الرنه الاولي صباح ع الحلوين رنتي...\n",
       "808465995778166784                         طابور خامس بكرا الايام بتكشفك\n",
       "543991002349174784     اي هو الشعب الي ثلاث ارباعو بحضر اراب زفت ايدو...\n",
       "869696823023239168                          شرايك تجرب نعالي احطه في فمك\n",
       "1051142788530589568                  لما تغسل عربيتك وتشوفها بعد الغسيل \n",
       "Name: txt, dtype: object"
      ]
     },
     "execution_count": 66,
     "metadata": {},
     "output_type": "execute_result"
    }
   ],
   "source": [
    "xtrain.tail()"
   ]
  },
  {
   "cell_type": "code",
   "execution_count": 67,
   "id": "b73a08e7-3dff-4d8f-b355-52233a6f5af8",
   "metadata": {},
   "outputs": [
    {
     "data": {
      "text/plain": [
       "13    KW\n",
       "14    PL\n",
       "15    PL\n",
       "16    QA\n",
       "17    SY\n",
       "Name: labels, dtype: object"
      ]
     },
     "execution_count": 126,
     "metadata": {},
     "output_type": "execute_result"
    }
   ],
   "source": [
    "ytrain.tail()"
   ]
  },
  {
   "cell_type": "code",
   "execution_count": 68,
   "id": "94f37340-4e81-4f40-b213-62cb58d9847d",
   "metadata": {},
   "outputs": [],
   "source": [
    "# # svm = NuSVC(kernel=\"linear\", random_state=7)\n",
    "# svm = SVC(\n",
    "#           # kernel=\"linear\", \n",
    "#           random_state=7\n",
    "#           )\n",
    "\n",
    "# pipeline = Pipeline([\n",
    "#                      ('cw26', FeatureUnion([\n",
    "#                                             ('word_features', Pipeline([\n",
    "#                                                                         ('ngram_w', CountVectorizer(ngram_range=(2, 6), \n",
    "#                                                                                                    analyzer='word')),                                                                     \n",
    "#                                                                         ('tfidf_w', TfidfTransformer())\n",
    "#                                                                         ])),\n",
    "#                                             ('char_features', Pipeline([\n",
    "#                                                                         ('ngram_c', CountVectorizer(ngram_range=(2, 6), \n",
    "#                                                                                                    analyzer='char')),\n",
    "#                                                                         ('tfidf_c', TfidfTransformer())\n",
    "#                                                                         ])),\n",
    "#                                              ])),\n",
    "#                      ('svm', svm)\n",
    "#                     ])"
   ]
  },
  {
   "cell_type": "code",
   "execution_count": null,
   "id": "40ac227e-0fd7-4d72-873c-19c067240194",
   "metadata": {},
   "outputs": [],
   "source": []
  },
  {
   "cell_type": "code",
   "execution_count": null,
   "id": "f89b1bc8-54f8-4ac0-ac36-1a6517b374b9",
   "metadata": {},
   "outputs": [],
   "source": []
  },
  {
   "cell_type": "code",
   "execution_count": null,
   "id": "1d7fac87-677e-4b52-9a22-8e29c6970cfb",
   "metadata": {},
   "outputs": [],
   "source": []
  },
  {
   "cell_type": "code",
   "execution_count": null,
   "id": "a826381d-36ca-462b-b6b3-8613cdbe03ab",
   "metadata": {},
   "outputs": [],
   "source": []
  },
  {
   "cell_type": "code",
   "execution_count": null,
   "id": "9fcf69d1-e73c-4a8e-9797-1ccdcca53440",
   "metadata": {},
   "outputs": [],
   "source": []
  },
  {
   "cell_type": "code",
   "execution_count": null,
   "id": "7f7fb344-beb4-4381-8987-6720570d0467",
   "metadata": {},
   "outputs": [],
   "source": []
  },
  {
   "cell_type": "code",
   "execution_count": null,
   "id": "2770018a-2e9d-4b93-a619-3088b996bc72",
   "metadata": {},
   "outputs": [],
   "source": [
    "le.inverse_transform(df[\"labels\"])"
   ]
  },
  {
   "cell_type": "code",
   "execution_count": 1,
   "id": "1c8b75f9-4a1b-4853-8493-2fd904e635e4",
   "metadata": {},
   "outputs": [],
   "source": [
    "# df = pd.merge(txt_df, label_df, left_index=True, right_index=True)\n",
    "# df = pd.concat([txt_df, label_df], axis=1)\n",
    "# df"
   ]
  },
  {
   "cell_type": "markdown",
   "id": "a623e8ab-c4d6-4487-ba95-40437ea72695",
   "metadata": {},
   "source": [
    "# ِAknowlgement\n",
    "#### Thanks to ENG:Ahmed A who provide helpfull aid in the pipeline code of the 'cw26' 'FeatureUnion' part"
   ]
  },
  {
   "cell_type": "code",
   "execution_count": null,
   "id": "a19db994-5c41-42e7-8c0b-9705a0d09877",
   "metadata": {},
   "outputs": [],
   "source": []
  }
 ],
 "metadata": {
  "kernelspec": {
   "display_name": "Python 3 (ipykernel)",
   "language": "python",
   "name": "python3"
  },
  "language_info": {
   "codemirror_mode": {
    "name": "ipython",
    "version": 3
   },
   "file_extension": ".py",
   "mimetype": "text/x-python",
   "name": "python",
   "nbconvert_exporter": "python",
   "pygments_lexer": "ipython3",
   "version": "3.9.7"
  }
 },
 "nbformat": 4,
 "nbformat_minor": 5
}
