{
 "cells": [
  {
   "cell_type": "code",
   "execution_count": 1,
   "id": "b533e64b-5c83-469f-bc42-0a0718bb73d2",
   "metadata": {},
   "outputs": [],
   "source": [
    "# #installing requirements for pytorch\n",
    "# !conda install astunparse numpy ninja pyyaml mkl mkl-include setuptools cmake cffi typing_extensions future six requests dataclasses\n",
    "# !conda install -c conda-forge libuv=1.39\n",
    "\n",
    "# #installing stable version of pytorch with python/pip , cuda-11.3 on windows10 in march-2022\n",
    "# !conda install pytorch torchvision torchaudio cudatoolkit=11.3 -c pytorch\n",
    "\n",
    "# # packages needed for arabert\n",
    "# !pip install -U pip\n",
    "# !pip install transformers \n",
    "# !pip install farasapy\n",
    "# !pip install iopath\n",
    "# !pip install pyarabic\n",
    "# !pip install huggingface-hub datasets\n",
    "# !conda install -c huggingface transformers\n",
    "# i know that some packages installed more than one time, when i install package\n",
    "# and face problem and reinstall it again -by pip as example- i write that here\n"
   ]
  },
  {
   "cell_type": "code",
   "execution_count": null,
   "id": "ea7b3fec-d3a7-4dd4-a53c-7078d168fa08",
   "metadata": {},
   "outputs": [],
   "source": [
    "import os\n",
    "import time\n",
    "import random\n",
    "from tqdm import tqdm\n",
    "import numpy as np\n",
    "import pandas as pd\n",
    "import matplotlib.pyplot as plt\n",
    "import seaborn as sns\n",
    "import torch\n",
    "import torch.nn as nn\n",
    "import torch.nn.functional as F\n",
    "from torch.utils.data import Dataset, DataLoader, TensorDataset\n",
    "from transformers import AutoTokenizer, AutoModel\n",
    "from arabert.preprocess import ArabertPreprocessor\n",
    "from sklearn.model_selection import train_test_split\n",
    "from sklearn.metrics import accuracy_score, f1_score, confusion_matrix, classification_report\n",
    "from sklearn.preprocessing import StandardScaler, LabelEncoder\n",
    "from imblearn.over_sampling import RandomOverSampler\n",
    "# from pprint import pprint\n"
   ]
  },
  {
   "cell_type": "code",
   "execution_count": null,
   "id": "a1086a2c-a17d-4b56-8612-3de2b0d7ef7e",
   "metadata": {},
   "outputs": [],
   "source": [
    "device = torch.device(\"cuda\" if torch.cuda.is_available() else \"cpu\")\n",
    "\n",
    "\n",
    "# fix random number generation aka regenerate the same random numbers every time (such as weight and bias initialization )\n",
    "def set_random_seed(seed=7, deterministic=True):\n",
    "    \"\"\"Set random seed, for python, numpy, pytorch\n",
    "\n",
    "    Args:\n",
    "        seed (int): Seed to be used.\n",
    "        deterministic (bool): Whether to set the deterministic option for\n",
    "            CUDNN backend, i.e., set `torch.backends.cudnn.deterministic`\n",
    "            to True and `torch.backends.cudnn.benchmark` to False.\n",
    "            Default: True.\n",
    "    \"\"\"\n",
    "    os.environ['PYTHONHASHSEED'] = str(seed)    \n",
    "    random.seed(seed)\n",
    "    np.random.seed(seed)\n",
    "    torch.manual_seed(seed)\n",
    "    torch.cuda.manual_seed(seed)\n",
    "    torch.cuda.manual_seed_all(seed)\n",
    "    if deterministic:\n",
    "        torch.backends.cudnn.deterministic = True\n",
    "        torch.backends.cudnn.benchmark = False \n",
    "        \n",
    "        \n",
    "seed=7        \n",
    "set_random_seed(seed=seed)"
   ]
  },
  {
   "cell_type": "code",
   "execution_count": null,
   "id": "984c80ea-a472-449f-9331-dde1a66cfaec",
   "metadata": {},
   "outputs": [
    {
     "data": {
      "text/plain": [
       "'D:\\\\projects\\\\aim\\\\script'"
      ]
     },
     "execution_count": 4,
     "metadata": {},
     "output_type": "execute_result"
    }
   ],
   "source": [
    "# Get the current working directory path\n",
    "cwd = os.getcwd()\n",
    "\n",
    "# model_name = \"aubmindlab/bert-base-arabertv2\"\n",
    "model_name = \"aubmindlab/bert-large-arabertv2\"\n",
    "text = \"ولن نبالغ إذا قلنا إن هاتف أو كمبيوتر المكتب في زمننا هذا ضروري\"\n",
    "cwd"
   ]
  },
  {
   "cell_type": "code",
   "execution_count": null,
   "id": "144491e6-6313-4cdc-89e1-139b879c6fd0",
   "metadata": {},
   "outputs": [],
   "source": [
    "# !git clone https://github.com/aub-mind/arabert.git {cwd}\n",
    "# !git clone https://huggingface.co/aubmindlab/bert-large-arabertv2 {cwd}\\..\\init_arabert_models\\large-arabertv2\n",
    "# !git clone https://huggingface.co/aubmindlab/bert-base-arabertv2 {cwd}\\..\\init_arabert_models\\base-arabertv2"
   ]
  },
  {
   "cell_type": "code",
   "execution_count": null,
   "id": "93bc5c28-f957-4fd3-9490-f71c1cf1dad0",
   "metadata": {},
   "outputs": [
    {
     "name": "stderr",
     "output_type": "stream",
     "text": [
      "Some weights of the model checkpoint at aubmindlab/bert-large-arabertv2 were not used when initializing BertModel: ['cls.seq_relationship.weight', 'cls.predictions.transform.dense.weight', 'cls.seq_relationship.bias', 'cls.predictions.decoder.bias', 'cls.predictions.transform.LayerNorm.weight', 'cls.predictions.decoder.weight', 'cls.predictions.bias', 'cls.predictions.transform.dense.bias', 'cls.predictions.transform.LayerNorm.bias']\n",
      "- This IS expected if you are initializing BertModel from the checkpoint of a model trained on another task or with another architecture (e.g. initializing a BertForSequenceClassification model from a BertForPreTraining model).\n",
      "- This IS NOT expected if you are initializing BertModel from the checkpoint of a model that you expect to be exactly identical (initializing a BertForSequenceClassification model from a BertForSequenceClassification model).\n"
     ]
    }
   ],
   "source": [
    "from transformers import AutoTokenizer, AutoModel\n",
    "arabert_tokenizer = AutoTokenizer.from_pretrained(model_name)\n",
    "arabert_model = AutoModel.from_pretrained(model_name)"
   ]
  },
  {
   "cell_type": "code",
   "execution_count": null,
   "id": "633a4e62-d1b6-4d66-866c-4ee71762dc34",
   "metadata": {},
   "outputs": [
    {
     "data": {
      "text/plain": [
       "['ولن',\n",
       " 'نبالغ',\n",
       " 'إذا',\n",
       " 'قلن',\n",
       " '##ا',\n",
       " 'إن',\n",
       " 'هاتف',\n",
       " 'أو',\n",
       " 'كمبيوتر',\n",
       " 'الم',\n",
       " '##كتب',\n",
       " 'في',\n",
       " 'زمن',\n",
       " '##نا',\n",
       " 'هذا',\n",
       " 'ضروري']"
      ]
     },
     "execution_count": 7,
     "metadata": {},
     "output_type": "execute_result"
    }
   ],
   "source": [
    "arabert_tokenizer.tokenize(text)"
   ]
  },
  {
   "cell_type": "code",
   "execution_count": null,
   "id": "40102dc6-1f59-4d5f-8afa-7deaf2a91aa4",
   "metadata": {},
   "outputs": [],
   "source": [
    "# from arabert.preprocess import ArabertPreprocessor\n",
    "# arabert_prep = ArabertPreprocessor(model_name=model_name)\n",
    "\n",
    "# arabert_prep.preprocess(text)\n",
    "# >>>\"و+ لن نبالغ إذا قل +نا إن هاتف أو كمبيوتر ال+ مكتب في زمن +نا هذا ضروري\""
   ]
  },
  {
   "cell_type": "code",
   "execution_count": null,
   "id": "61b1b0da-00ed-4844-9cef-caf517dcd0a4",
   "metadata": {},
   "outputs": [
    {
     "data": {
      "text/html": [
       "<div>\n",
       "<style scoped>\n",
       "    .dataframe tbody tr th:only-of-type {\n",
       "        vertical-align: middle;\n",
       "    }\n",
       "\n",
       "    .dataframe tbody tr th {\n",
       "        vertical-align: top;\n",
       "    }\n",
       "\n",
       "    .dataframe thead th {\n",
       "        text-align: right;\n",
       "    }\n",
       "</style>\n",
       "<table border=\"1\" class=\"dataframe\">\n",
       "  <thead>\n",
       "    <tr style=\"text-align: right;\">\n",
       "      <th></th>\n",
       "      <th>txt</th>\n",
       "      <th>dialect</th>\n",
       "    </tr>\n",
       "    <tr>\n",
       "      <th>id</th>\n",
       "      <th></th>\n",
       "      <th></th>\n",
       "    </tr>\n",
       "  </thead>\n",
       "  <tbody>\n",
       "    <tr>\n",
       "      <th>1175358310087892992</th>\n",
       "      <td>لكن بالنهايه ينتفض يغير</td>\n",
       "      <td>IQ</td>\n",
       "    </tr>\n",
       "    <tr>\n",
       "      <th>1175416117793349632</th>\n",
       "      <td>يعني هذا محسوب علي البشر حيونه وحشيه وتطلبون ...</td>\n",
       "      <td>IQ</td>\n",
       "    </tr>\n",
       "    <tr>\n",
       "      <th>1175450108898565888</th>\n",
       "      <td>مبين من كلامه خليجي</td>\n",
       "      <td>IQ</td>\n",
       "    </tr>\n",
       "    <tr>\n",
       "      <th>1175471073770573824</th>\n",
       "      <td>يسلملي مرورك وروحك الحلوه</td>\n",
       "      <td>IQ</td>\n",
       "    </tr>\n",
       "    <tr>\n",
       "      <th>1175496913145217024</th>\n",
       "      <td>وين هل الغيبه اخ محمد</td>\n",
       "      <td>IQ</td>\n",
       "    </tr>\n",
       "  </tbody>\n",
       "</table>\n",
       "</div>"
      ],
      "text/plain": [
       "                                                                   txt dialect\n",
       "id                                                                            \n",
       "1175358310087892992                           لكن بالنهايه ينتفض يغير       IQ\n",
       "1175416117793349632   يعني هذا محسوب علي البشر حيونه وحشيه وتطلبون ...      IQ\n",
       "1175450108898565888                                مبين من كلامه خليجي      IQ\n",
       "1175471073770573824                         يسلملي مرورك وروحك الحلوه       IQ\n",
       "1175496913145217024                             وين هل الغيبه اخ محمد       IQ"
      ]
     },
     "execution_count": 9,
     "metadata": {},
     "output_type": "execute_result"
    }
   ],
   "source": [
    "# txt_df = pd.read_csv(\"../csv_files/cleaned_txt_df.csv\", index_col=\"id\")\n",
    "# label_df = pd.read_csv(\"../csv_files/dialect_dataset.csv\", index_col=\"id\")\n",
    "# df = pd.merge(txt_df, label_df, left_index=True, right_index=True) # === pd.concat([txt_df, label_df], axis=1)\n",
    "# df = df.reset_index()[[\"txt\", \"dialect\"]]\n",
    "# df.head()\n",
    "df = pd.read_csv(\"../csv_files/cleaned_txt_df.csv\", index_col=\"id\")\n",
    "df.head()"
   ]
  },
  {
   "cell_type": "code",
   "execution_count": null,
   "id": "b70f6703-888e-4242-b442-5b05ea1b168e",
   "metadata": {},
   "outputs": [
    {
     "data": {
      "text/plain": [
       "(457414, 2)"
      ]
     },
     "execution_count": 10,
     "metadata": {},
     "output_type": "execute_result"
    }
   ],
   "source": [
    "df.shape"
   ]
  },
  {
   "cell_type": "code",
   "execution_count": null,
   "id": "5b6c8583-456a-405f-b384-ef3b47fb94dd",
   "metadata": {},
   "outputs": [
    {
     "data": {
      "text/html": [
       "<div>\n",
       "<style scoped>\n",
       "    .dataframe tbody tr th:only-of-type {\n",
       "        vertical-align: middle;\n",
       "    }\n",
       "\n",
       "    .dataframe tbody tr th {\n",
       "        vertical-align: top;\n",
       "    }\n",
       "\n",
       "    .dataframe thead th {\n",
       "        text-align: right;\n",
       "    }\n",
       "</style>\n",
       "<table border=\"1\" class=\"dataframe\">\n",
       "  <thead>\n",
       "    <tr style=\"text-align: right;\">\n",
       "      <th></th>\n",
       "      <th>txt</th>\n",
       "      <th>dialect</th>\n",
       "    </tr>\n",
       "  </thead>\n",
       "  <tbody>\n",
       "    <tr>\n",
       "      <th>count</th>\n",
       "      <td>457414</td>\n",
       "      <td>457414</td>\n",
       "    </tr>\n",
       "    <tr>\n",
       "      <th>unique</th>\n",
       "      <td>457414</td>\n",
       "      <td>18</td>\n",
       "    </tr>\n",
       "    <tr>\n",
       "      <th>top</th>\n",
       "      <td>لكن بالنهايه ينتفض يغير</td>\n",
       "      <td>EG</td>\n",
       "    </tr>\n",
       "    <tr>\n",
       "      <th>freq</th>\n",
       "      <td>1</td>\n",
       "      <td>57582</td>\n",
       "    </tr>\n",
       "  </tbody>\n",
       "</table>\n",
       "</div>"
      ],
      "text/plain": [
       "                              txt dialect\n",
       "count                      457414  457414\n",
       "unique                     457414      18\n",
       "top      لكن بالنهايه ينتفض يغير       EG\n",
       "freq                            1   57582"
      ]
     },
     "execution_count": 11,
     "metadata": {},
     "output_type": "execute_result"
    }
   ],
   "source": [
    "df.describe()"
   ]
  },
  {
   "cell_type": "code",
   "execution_count": null,
   "id": "89523380-74ba-4c29-9b0a-c3e360d81f27",
   "metadata": {},
   "outputs": [
    {
     "name": "stdout",
     "output_type": "stream",
     "text": [
      "<class 'pandas.core.frame.DataFrame'>\n",
      "Int64Index: 457414 entries, 1175358310087892992 to 1022409931029458944\n",
      "Data columns (total 2 columns):\n",
      " #   Column   Non-Null Count   Dtype \n",
      "---  ------   --------------   ----- \n",
      " 0   txt      457414 non-null  object\n",
      " 1   dialect  457414 non-null  object\n",
      "dtypes: object(2)\n",
      "memory usage: 10.5+ MB\n"
     ]
    }
   ],
   "source": [
    "df.info()"
   ]
  },
  {
   "cell_type": "code",
   "execution_count": null,
   "id": "4e29c314-3d25-4122-8119-e4092bec6def",
   "metadata": {},
   "outputs": [
    {
     "data": {
      "text/plain": [
       "0"
      ]
     },
     "execution_count": 13,
     "metadata": {},
     "output_type": "execute_result"
    }
   ],
   "source": [
    "df[\"dialect\"].isna().sum()"
   ]
  },
  {
   "cell_type": "code",
   "execution_count": null,
   "id": "29875fda-9dfb-488d-a6ba-15ec2f6f602b",
   "metadata": {},
   "outputs": [
    {
     "data": {
      "text/plain": [
       "0"
      ]
     },
     "execution_count": 14,
     "metadata": {},
     "output_type": "execute_result"
    }
   ],
   "source": [
    "df[\"txt\"].isnull().sum()"
   ]
  },
  {
   "cell_type": "code",
   "execution_count": null,
   "id": "e1daf5dd-99af-48a4-8718-079cc15bcfaa",
   "metadata": {},
   "outputs": [
    {
     "name": "stdout",
     "output_type": "stream",
     "text": [
      "EG    57582\n",
      "PL    43684\n",
      "KW    42041\n",
      "LY    36460\n",
      "QA    31049\n",
      "JO    27837\n",
      "LB    27588\n",
      "SA    26800\n",
      "AE    26241\n",
      "BH    26179\n",
      "OM    19065\n",
      "SY    16219\n",
      "DZ    16160\n",
      "IQ    15484\n",
      "SD    14371\n",
      "MA    11529\n",
      "YE     9888\n",
      "TN     9237\n",
      "Name: dialect, dtype: int64\n"
     ]
    },
    {
     "data": {
      "image/png": "[encoded data removed]",
      "text/plain": [
       "<Figure size 432x288 with 1 Axes>"
      ]
     },
     "metadata": {
      "needs_background": "light"
     },
     "output_type": "display_data"
    }
   ],
   "source": [
    "val_count = df[\"dialect\"].value_counts()\n",
    "plt.bar(x=val_count.index, height=val_count)\n",
    "plt.yticks(list(range(5000, 60000, 5000)))\n",
    "plt.grid(axis=\"y\", ls='-.') \n",
    "print(val_count)"
   ]
  },
  {
   "cell_type": "markdown",
   "id": "39c73b41-8cc0-45b1-9b0f-7249e6a42a3c",
   "metadata": {},
   "source": [
    "The brevious chart shows that the data is imbalanced,as example:- instances number of \"EG\" category is 5 times \"TN\" or \"YE\" ones."
   ]
  },
  {
   "cell_type": "code",
   "execution_count": 27,
   "id": "cae5853c-589e-4e22-b6a3-47cc3e34b599",
   "metadata": {},
   "outputs": [],
   "source": [
    "# from transformers import AutoTokenizer, AutoModel\n",
    "\n",
    "# tokenizer = AutoTokenizer.from_pretrained(\"bert-base-uncased\")\n",
    "# model = AutoModel.from_pretrained(\"bert-base-uncased\")\n",
    "\n",
    "# inputs = tokenizer(\"Hello world!\", return_tensors=\"pt\")\n",
    "# outputs = model(**inputs)\n",
    "\n",
    "\n",
    "\n",
    "\n",
    "# from transformers import AutoTokenizer, AutoModelForMaskedLM\n",
    "# tokenizer = AutoTokenizer.from_pretrained(\"aubmindlab/bert-large-arabertv2\")\n",
    "# model = AutoModelForMaskedLM.from_pretrained(\"aubmindlab/bert-large-arabertv2\")"
   ]
  },
  {
   "cell_type": "code",
   "execution_count": 72,
   "id": "cf8b3130-bf39-41e4-87a5-5bb546252f61",
   "metadata": {},
   "outputs": [],
   "source": [
    "df[\"labels\"] = df[\"dialect\"]  # in case i remove the next cell the code will continue working correctly\n",
    "\n",
    "# # this step is optional as scikit-learn can deal with categorical labels and perform this step behind scences\n",
    "# le = LabelEncoder()\n",
    "# le.fit(df[\"dialect\"])\n",
    "# df[\"labels\"] = le.transform(df[\"dialect\"])"
   ]
  },
  {
   "cell_type": "code",
   "execution_count": 73,
   "id": "2aeb1a58-b95c-4c01-87ea-67455fb3e929",
   "metadata": {},
   "outputs": [],
   "source": [
    "# from datasets import load_dataset\n",
    "\n",
    "# dataset = load_dataset(\"yelp_review_full\")\n",
    "# dataset"
   ]
  },
  {
   "cell_type": "code",
   "execution_count": 74,
   "id": "cf32c031-c84a-4f87-8288-98cf377bcf35",
   "metadata": {},
   "outputs": [],
   "source": [
    "# dataset[\"train\"][\"text\"]"
   ]
  },
  {
   "cell_type": "code",
   "execution_count": 75,
   "id": "3b8df46b-5541-42a2-8b22-a67d28853ae4",
   "metadata": {},
   "outputs": [],
   "source": [
    "# dic = arabert_tokenizer([i for i in df[\"txt\"]]\n",
    "#                         # , padding=\"max_length\", truncation=True\n",
    "#                        )\n",
    "# df[\"txt_input_ids\"] = dic[\"input_ids\"]\n",
    "# df[\"txt_token_type_ids\"] = dic[\"token_type_ids\"]\n",
    "# df[\"txt_attention_mask\"] = dic[\"attention_mask\"]  "
   ]
  },
  {
   "cell_type": "code",
   "execution_count": 76,
   "id": "f560a00e-8ee5-4b3c-85b8-f83a25565846",
   "metadata": {},
   "outputs": [],
   "source": [
    "# sum([1 for i , j, k in zip(df[\"txt_attention_mask\"], df[\"txt_token_type_ids\"], df[\"txt_input_ids\"])])\n",
    "# after some tests\n",
    "# token_type_ids = list(list(ones)) where every list length==length of input_ids\n",
    "# so we just need \"input_ids\" as it contains all the information\n",
    "# 458197\n",
    "# 458197\n",
    "# 10491065\n",
    "# 10491065"
   ]
  },
  {
   "cell_type": "code",
   "execution_count": 77,
   "id": "f29da8e0-628a-4041-9dd4-9411a99a0d66",
   "metadata": {},
   "outputs": [],
   "source": [
    "df[\"txt_input_ids\"] = arabert_tokenizer([i for i in df[\"txt\"]]\n",
    "                        # , padding=\"max_length\", truncation=True, return_tensors=\"pt\"\n",
    "                       )[\"input_ids\"]"
   ]
  },
  {
   "cell_type": "code",
   "execution_count": 80,
   "id": "81935fb6-f5a8-42f9-b0c4-5f8401d82982",
   "metadata": {},
   "outputs": [
    {
     "name": "stdout",
     "output_type": "stream",
     "text": [
      " xtrain.shape = (388801,)\n",
      " xtest.shape = (68613,)\n"
     ]
    }
   ],
   "source": [
    "xtrain_imb, xtest, ytrain_imb, ytest = train_test_split(df[\"txt_input_ids\"], df[\"labels\"], test_size=0.15, \n",
    "                                                random_state=seed, shuffle=True, stratify=df[\"labels\"])\n",
    "\n",
    "print(f\" xtrain.shape = {xtrain_imb.shape}\\n xtest.shape = {xtest.shape}\")\n",
    "# xtrain_imb.head().iloc[0]"
   ]
  },
  {
   "cell_type": "code",
   "execution_count": 81,
   "id": "f8a1d7e3-a083-4150-a4f9-c37c7d4dbd69",
   "metadata": {},
   "outputs": [
    {
     "data": {
      "text/html": [
       "<div>\n",
       "<style scoped>\n",
       "    .dataframe tbody tr th:only-of-type {\n",
       "        vertical-align: middle;\n",
       "    }\n",
       "\n",
       "    .dataframe tbody tr th {\n",
       "        vertical-align: top;\n",
       "    }\n",
       "\n",
       "    .dataframe thead th {\n",
       "        text-align: right;\n",
       "    }\n",
       "</style>\n",
       "<table border=\"1\" class=\"dataframe\">\n",
       "  <thead>\n",
       "    <tr style=\"text-align: right;\">\n",
       "      <th></th>\n",
       "      <th>txt_input_ids</th>\n",
       "    </tr>\n",
       "    <tr>\n",
       "      <th>id</th>\n",
       "      <th></th>\n",
       "    </tr>\n",
       "  </thead>\n",
       "  <tbody>\n",
       "    <tr>\n",
       "      <th>774695077667074048</th>\n",
       "      <td>[33, 1375, 6202, 34670, 1218, 16974, 218, 290,...</td>\n",
       "    </tr>\n",
       "    <tr>\n",
       "      <th>890718236311928832</th>\n",
       "      <td>[33, 1792, 39913, 195, 38609, 313, 13246, 7124...</td>\n",
       "    </tr>\n",
       "    <tr>\n",
       "      <th>1105947356254666752</th>\n",
       "      <td>[33, 13246, 8375, 217, 37605, 667, 217, 12534,...</td>\n",
       "    </tr>\n",
       "    <tr>\n",
       "      <th>989499497330954240</th>\n",
       "      <td>[33, 8331, 11945, 17517, 223, 315, 47548, 223,...</td>\n",
       "    </tr>\n",
       "    <tr>\n",
       "      <th>907795207193858048</th>\n",
       "      <td>[33, 402, 331, 13295, 8056, 40547, 312, 1265, ...</td>\n",
       "    </tr>\n",
       "  </tbody>\n",
       "</table>\n",
       "</div>"
      ],
      "text/plain": [
       "                                                         txt_input_ids\n",
       "id                                                                    \n",
       "774695077667074048   [33, 1375, 6202, 34670, 1218, 16974, 218, 290,...\n",
       "890718236311928832   [33, 1792, 39913, 195, 38609, 313, 13246, 7124...\n",
       "1105947356254666752  [33, 13246, 8375, 217, 37605, 667, 217, 12534,...\n",
       "989499497330954240   [33, 8331, 11945, 17517, 223, 315, 47548, 223,...\n",
       "907795207193858048   [33, 402, 331, 13295, 8056, 40547, 312, 1265, ..."
      ]
     },
     "execution_count": 83,
     "metadata": {},
     "output_type": "execute_result"
    }
   ],
   "source": [
    "xtrain_imb = xtrain_imb.iloc[[99, 88, 987, 110987, 300999, 300777, 200666, 200999, 100777, 100000]].to_frame()\n",
    "ytrain_imb = ytrain_imb.iloc[[99, 88, 987, 110987, 300999, 300777, 200666, 200999, 100777, 100000]]\n",
    "xtrain_imb.head()"
   ]
  },
  {
   "cell_type": "code",
   "execution_count": 70,
   "id": "6ddcb71a-53f7-4afb-850a-92a81febcb81",
   "metadata": {},
   "outputs": [],
   "source": [
    "# make oversampling to fix the imbalanced classes\n",
    "ros = RandomOverSampler(random_state=seed)\n",
    "xtrain, ytrain = ros.fit_resample(xtrain_imb, ytrain_imb)"
   ]
  },
  {
   "cell_type": "code",
   "execution_count": null,
   "id": "da334bde-0551-4b28-8684-46ac5fbebbdf",
   "metadata": {
    "tags": []
   },
   "outputs": [],
   "source": [
    "df[[\"txt_input_ids\", \"encoded_dialect\"]].to_csv(\"../csv_files/tokenized_txt_df.csv\")"
   ]
  },
  {
   "cell_type": "code",
   "execution_count": null,
   "id": "b7def4aa-3cac-4168-9a90-d764c8261edd",
   "metadata": {},
   "outputs": [
    {
     "data": {
      "text/html": [
       "<div>\n",
       "<style scoped>\n",
       "    .dataframe tbody tr th:only-of-type {\n",
       "        vertical-align: middle;\n",
       "    }\n",
       "\n",
       "    .dataframe tbody tr th {\n",
       "        vertical-align: top;\n",
       "    }\n",
       "\n",
       "    .dataframe thead th {\n",
       "        text-align: right;\n",
       "    }\n",
       "</style>\n",
       "<table border=\"1\" class=\"dataframe\">\n",
       "  <thead>\n",
       "    <tr style=\"text-align: right;\">\n",
       "      <th></th>\n",
       "      <th>txt_input_ids</th>\n",
       "      <th>labels</th>\n",
       "    </tr>\n",
       "    <tr>\n",
       "      <th>id</th>\n",
       "      <th></th>\n",
       "      <th></th>\n",
       "    </tr>\n",
       "  </thead>\n",
       "  <tbody>\n",
       "    <tr>\n",
       "      <th>1175358310087892992</th>\n",
       "      <td>[33, 523, 4350, 27562, 7952, 25118, 7553, 34]</td>\n",
       "      <td>IQ</td>\n",
       "    </tr>\n",
       "    <tr>\n",
       "      <th>1175416117793349632</th>\n",
       "      <td>[33, 2253, 387, 8888, 421, 8127, 426, 25737, 9...</td>\n",
       "      <td>IQ</td>\n",
       "    </tr>\n",
       "    <tr>\n",
       "      <th>1175450108898565888</th>\n",
       "      <td>[33, 4691, 290, 2288, 223, 2136, 34]</td>\n",
       "      <td>IQ</td>\n",
       "    </tr>\n",
       "    <tr>\n",
       "      <th>1175471073770573824</th>\n",
       "      <td>[33, 8375, 300, 2002, 217, 57410, 26792, 13280...</td>\n",
       "      <td>IQ</td>\n",
       "    </tr>\n",
       "    <tr>\n",
       "      <th>1175496913145217024</th>\n",
       "      <td>[33, 7434, 1081, 31818, 3074, 663, 534, 34]</td>\n",
       "      <td>IQ</td>\n",
       "    </tr>\n",
       "    <tr>\n",
       "      <th>...</th>\n",
       "      <td>...</td>\n",
       "      <td>...</td>\n",
       "    </tr>\n",
       "    <tr>\n",
       "      <th>1019484980282580992</th>\n",
       "      <td>[33, 29880, 303, 38526, 4308, 18171, 2322, 34]</td>\n",
       "      <td>BH</td>\n",
       "    </tr>\n",
       "    <tr>\n",
       "      <th>1021083283709407232</th>\n",
       "      <td>[33, 6689, 223, 59039, 223, 2867, 200, 10245, ...</td>\n",
       "      <td>BH</td>\n",
       "    </tr>\n",
       "    <tr>\n",
       "      <th>1017477537889431552</th>\n",
       "      <td>[33, 3166, 48109, 195, 7669, 9856, 8964, 209, ...</td>\n",
       "      <td>BH</td>\n",
       "    </tr>\n",
       "    <tr>\n",
       "      <th>1022430374696239232</th>\n",
       "      <td>[33, 13246, 19558, 41101, 195, 45372, 16108, 2...</td>\n",
       "      <td>BH</td>\n",
       "    </tr>\n",
       "    <tr>\n",
       "      <th>1022409931029458944</th>\n",
       "      <td>[33, 8151, 827, 223, 3101, 209, 168, 5375, 214...</td>\n",
       "      <td>BH</td>\n",
       "    </tr>\n",
       "  </tbody>\n",
       "</table>\n",
       "<p>457414 rows × 2 columns</p>\n",
       "</div>"
      ],
      "text/plain": [
       "                                                         txt_input_ids labels\n",
       "id                                                                           \n",
       "1175358310087892992      [33, 523, 4350, 27562, 7952, 25118, 7553, 34]     IQ\n",
       "1175416117793349632  [33, 2253, 387, 8888, 421, 8127, 426, 25737, 9...     IQ\n",
       "1175450108898565888               [33, 4691, 290, 2288, 223, 2136, 34]     IQ\n",
       "1175471073770573824  [33, 8375, 300, 2002, 217, 57410, 26792, 13280...     IQ\n",
       "1175496913145217024        [33, 7434, 1081, 31818, 3074, 663, 534, 34]     IQ\n",
       "...                                                                ...    ...\n",
       "1019484980282580992     [33, 29880, 303, 38526, 4308, 18171, 2322, 34]     BH\n",
       "1021083283709407232  [33, 6689, 223, 59039, 223, 2867, 200, 10245, ...     BH\n",
       "1017477537889431552  [33, 3166, 48109, 195, 7669, 9856, 8964, 209, ...     BH\n",
       "1022430374696239232  [33, 13246, 19558, 41101, 195, 45372, 16108, 2...     BH\n",
       "1022409931029458944  [33, 8151, 827, 223, 3101, 209, 168, 5375, 214...     BH\n",
       "\n",
       "[457414 rows x 2 columns]"
      ]
     },
     "execution_count": 86,
     "metadata": {},
     "output_type": "execute_result"
    }
   ],
   "source": [
    "pd.read_csv(\"../csv_files/tokenized_txt_df.csv\", index_col=\"id\")"
   ]
  },
  {
   "cell_type": "code",
   "execution_count": null,
   "id": "72671322-4c0a-4026-9d6c-b76e88b25a1d",
   "metadata": {},
   "outputs": [],
   "source": []
  },
  {
   "cell_type": "code",
   "execution_count": null,
   "id": "066d5d53-ec00-47fb-afc7-a6ffd014f48e",
   "metadata": {},
   "outputs": [],
   "source": []
  },
  {
   "cell_type": "code",
   "execution_count": null,
   "id": "88b9e59e-68c2-40a1-a7b2-1e64f9573576",
   "metadata": {},
   "outputs": [],
   "source": []
  },
  {
   "cell_type": "code",
   "execution_count": null,
   "id": "1a736e2b-d77a-44ba-81c8-8ea3da4268f6",
   "metadata": {},
   "outputs": [],
   "source": []
  },
  {
   "cell_type": "code",
   "execution_count": null,
   "id": "1fe65dbf-d63e-4744-8fa3-873571539c8c",
   "metadata": {},
   "outputs": [],
   "source": []
  },
  {
   "cell_type": "code",
   "execution_count": null,
   "id": "40fb6510-b4d0-474a-8600-81eb5957f1d5",
   "metadata": {},
   "outputs": [],
   "source": []
  },
  {
   "cell_type": "code",
   "execution_count": null,
   "id": "7fbae062-ebe0-418e-8e7c-40b7206a089a",
   "metadata": {},
   "outputs": [],
   "source": []
  },
  {
   "cell_type": "code",
   "execution_count": null,
   "id": "095c4799-dd34-4017-8cb3-911e1ff8f278",
   "metadata": {},
   "outputs": [],
   "source": []
  },
  {
   "cell_type": "code",
   "execution_count": null,
   "id": "6b973d5b-28d5-4077-8b19-7f2d2562ec6c",
   "metadata": {},
   "outputs": [],
   "source": []
  },
  {
   "cell_type": "code",
   "execution_count": null,
   "id": "745f51c5-bb19-4ffe-9b26-e084e2665dc1",
   "metadata": {},
   "outputs": [],
   "source": []
  },
  {
   "cell_type": "code",
   "execution_count": null,
   "id": "4ec39913-da14-4298-96f6-fc648e1970e8",
   "metadata": {},
   "outputs": [],
   "source": []
  },
  {
   "cell_type": "code",
   "execution_count": null,
   "id": "40ac227e-0fd7-4d72-873c-19c067240194",
   "metadata": {},
   "outputs": [],
   "source": []
  },
  {
   "cell_type": "code",
   "execution_count": null,
   "id": "2770018a-2e9d-4b93-a619-3088b996bc72",
   "metadata": {},
   "outputs": [],
   "source": [
    "le.inverse_transform(df[\"encoded_dialect\"])"
   ]
  },
  {
   "cell_type": "code",
   "execution_count": 1,
   "id": "1c8b75f9-4a1b-4853-8493-2fd904e635e4",
   "metadata": {},
   "outputs": [],
   "source": [
    "# df = pd.merge(txt_df, label_df, left_index=True, right_index=True)\n",
    "# df = pd.concat([txt_df, label_df], axis=1)\n",
    "# df"
   ]
  },
  {
   "cell_type": "code",
   "execution_count": null,
   "id": "35a8a264-cf4b-4b9e-8640-20489de3875f",
   "metadata": {},
   "outputs": [],
   "source": []
  }
 ],
 "metadata": {
  "kernelspec": {
   "display_name": "Python 3 (ipykernel)",
   "language": "python",
   "name": "python3"
  },
  "language_info": {
   "codemirror_mode": {
    "name": "ipython",
    "version": 3
   },
   "file_extension": ".py",
   "mimetype": "text/x-python",
   "name": "python",
   "nbconvert_exporter": "python",
   "pygments_lexer": "ipython3",
   "version": "3.9.7"
  }
 },
 "nbformat": 4,
 "nbformat_minor": 5
}
