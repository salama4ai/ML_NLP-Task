{
 "cells": [
  {
   "cell_type": "code",
   "execution_count": 1,
   "id": "1c668593-473b-4e73-8898-a5966e1f187e",
   "metadata": {},
   "outputs": [],
   "source": [
    "import pandas as pd\n",
    "import matplotlib.pyplot as plt\n",
    "import seaborn as sns\n",
    "from sklearn.svm import SVC, NuSVC\n",
    "from sklearn.preprocessing import StandardScaler, LabelEncoder\n",
    "from sklearn.model_selection import train_test_split\n",
    "from sklearn.metrics import accuracy_score, f1_score, confusion_matrix, classification_report"
   ]
  },
  {
   "cell_type": "code",
   "execution_count": null,
   "id": "61b1b0da-00ed-4844-9cef-caf517dcd0a4",
   "metadata": {},
   "outputs": [],
   "source": [
    "txt_df = pd.read_csv(\"../csv_files/cleaned_txt_df.csv\", index_col=\"id\")\n",
    "label_df = pd.read_csv(\"../csv_files/dialect_dataset.csv\", index_col=\"id\")\n",
    "df = pd.merge(txt_df, label_df, left_index=True, right_index=True) # === pd.concat([txt_df, label_df], axis=1)\n",
    "df"
   ]
  },
  {
   "cell_type": "code",
   "execution_count": null,
   "id": "ae3fc6bc-30a8-40e7-8f73-ae4289d31c7a",
   "metadata": {},
   "outputs": [],
   "source": [
    "df.describe()"
   ]
  },
  {
   "cell_type": "code",
   "execution_count": null,
   "id": "89a43119-3f76-46f5-a092-22095bde9050",
   "metadata": {},
   "outputs": [],
   "source": [
    "df.info()"
   ]
  },
  {
   "cell_type": "code",
   "execution_count": null,
   "id": "4e29c314-3d25-4122-8119-e4092bec6def",
   "metadata": {},
   "outputs": [],
   "source": [
    "df[\"dialect\"].isna().sum()"
   ]
  },
  {
   "cell_type": "code",
   "execution_count": null,
   "id": "29875fda-9dfb-488d-a6ba-15ec2f6f602b",
   "metadata": {},
   "outputs": [],
   "source": [
    "df[\"txt\"].isna().sum()"
   ]
  },
  {
   "cell_type": "code",
   "execution_count": null,
   "id": "e1daf5dd-99af-48a4-8718-079cc15bcfaa",
   "metadata": {},
   "outputs": [],
   "source": [
    "val_count = df[\"dialect\"].value_counts()\n",
    "plt.bar(x=val_count.index, height=val_count)\n",
    "plt.yticks(list(range(5000, 60000, 5000)))\n",
    "plt.grid(axis=\"y\", ls='-.') \n",
    "print(val_count)"
   ]
  },
  {
   "cell_type": "markdown",
   "id": "39c73b41-8cc0-45b1-9b0f-7249e6a42a3c",
   "metadata": {},
   "source": [
    "The brevious chart shows that the data is imbalanced,as example number of \"EG\" category instances is higher that \"TN\" or \"YE\" ones,  we will fix this issue."
   ]
  },
  {
   "cell_type": "code",
   "execution_count": null,
   "id": "e123975d-b707-4b67-bbe0-3d2eec0e541c",
   "metadata": {},
   "outputs": [],
   "source": [
    "le = LabelEncoder()\n",
    "le.fit(df[\"dialect\"])\n",
    "df[\"encoded_dialect\"] = le.transform(df[\"dialect\"])"
   ]
  },
  {
   "cell_type": "code",
   "execution_count": null,
   "id": "031d4072-7c48-444d-a424-95775dd19fc9",
   "metadata": {},
   "outputs": [],
   "source": [
    "df[\"txt_tokenized\"] = "
   ]
  },
  {
   "cell_type": "code",
   "execution_count": 3,
   "id": "3b8df46b-5541-42a2-8b22-a67d28853ae4",
   "metadata": {},
   "outputs": [
    {
     "ename": "NameError",
     "evalue": "name 'train_test_split' is not defined",
     "output_type": "error",
     "traceback": [
      "\u001b[1;31m---------------------------------------------------------------------------\u001b[0m",
      "\u001b[1;31mNameError\u001b[0m                                 Traceback (most recent call last)",
      "\u001b[1;32m~\\AppData\\Local\\Temp/ipykernel_15560/276927395.py\u001b[0m in \u001b[0;36m<module>\u001b[1;34m\u001b[0m\n\u001b[1;32m----> 1\u001b[1;33m xtrain, xtest, ytrain, ytest = train_test_split(df[\"txt\"], df[\"dialect\"], test_size=0.25, \n\u001b[0m\u001b[0;32m      2\u001b[0m                                                     random_state=7, shuffle=True, stratify=df[\"dialect\"])\n\u001b[0;32m      3\u001b[0m \u001b[1;31m# xtrain\u001b[0m\u001b[1;33m\u001b[0m\u001b[1;33m\u001b[0m\u001b[0m\n\u001b[0;32m      4\u001b[0m \u001b[1;31m# xtest\u001b[0m\u001b[1;33m\u001b[0m\u001b[1;33m\u001b[0m\u001b[0m\n\u001b[0;32m      5\u001b[0m \u001b[1;31m# ytrain\u001b[0m\u001b[1;33m\u001b[0m\u001b[1;33m\u001b[0m\u001b[0m\n",
      "\u001b[1;31mNameError\u001b[0m: name 'train_test_split' is not defined"
     ]
    }
   ],
   "source": [
    "xtrain, xtest, ytrain, ytest = train_test_split(df[\"txt_tokenized\"], df[\"encoded_dialect\"], test_size=0.25, \n",
    "                                                    random_state=7, shuffle=True, stratify=df[\"dialect\"])\n",
    "# xtrain\n",
    "# xtest\n",
    "# ytrain\n",
    "# ytest"
   ]
  },
  {
   "cell_type": "code",
   "execution_count": 4,
   "id": "fa76bbc4-65ed-4a4b-97bb-ade43258fbcc",
   "metadata": {},
   "outputs": [
    {
     "ename": "NameError",
     "evalue": "name 'StandardScaler' is not defined",
     "output_type": "error",
     "traceback": [
      "\u001b[1;31m---------------------------------------------------------------------------\u001b[0m",
      "\u001b[1;31mNameError\u001b[0m                                 Traceback (most recent call last)",
      "\u001b[1;32m~\\AppData\\Local\\Temp/ipykernel_15560/2042687945.py\u001b[0m in \u001b[0;36m<module>\u001b[1;34m\u001b[0m\n\u001b[1;32m----> 1\u001b[1;33m \u001b[0msc\u001b[0m \u001b[1;33m=\u001b[0m \u001b[0mStandardScaler\u001b[0m\u001b[1;33m(\u001b[0m\u001b[1;33m)\u001b[0m\u001b[1;33m\u001b[0m\u001b[1;33m\u001b[0m\u001b[0m\n\u001b[0m\u001b[0;32m      2\u001b[0m \u001b[0msc\u001b[0m\u001b[1;33m.\u001b[0m\u001b[0mfit\u001b[0m\u001b[1;33m(\u001b[0m\u001b[0mxtrain\u001b[0m\u001b[1;33m)\u001b[0m\u001b[1;33m\u001b[0m\u001b[1;33m\u001b[0m\u001b[0m\n\u001b[0;32m      3\u001b[0m \u001b[0mxtrain_sc\u001b[0m \u001b[1;33m=\u001b[0m \u001b[0msc\u001b[0m\u001b[1;33m.\u001b[0m\u001b[0mtransform\u001b[0m\u001b[1;33m(\u001b[0m\u001b[0mxtrain\u001b[0m\u001b[1;33m)\u001b[0m\u001b[1;33m\u001b[0m\u001b[1;33m\u001b[0m\u001b[0m\n",
      "\u001b[1;31mNameError\u001b[0m: name 'StandardScaler' is not defined"
     ]
    }
   ],
   "source": [
    "sc = StandardScaler()\n",
    "sc.fit(xtrain)\n",
    "xtrain_sc = sc.transform(xtrain)"
   ]
  },
  {
   "cell_type": "code",
   "execution_count": 5,
   "id": "81935fb6-f5a8-42f9-b0c4-5f8401d82982",
   "metadata": {},
   "outputs": [
    {
     "ename": "NameError",
     "evalue": "name 'NuSVC' is not defined",
     "output_type": "error",
     "traceback": [
      "\u001b[1;31m---------------------------------------------------------------------------\u001b[0m",
      "\u001b[1;31mNameError\u001b[0m                                 Traceback (most recent call last)",
      "\u001b[1;32m~\\AppData\\Local\\Temp/ipykernel_15560/3138629067.py\u001b[0m in \u001b[0;36m<module>\u001b[1;34m\u001b[0m\n\u001b[1;32m----> 1\u001b[1;33m \u001b[0msvm\u001b[0m \u001b[1;33m=\u001b[0m \u001b[0mNuSVC\u001b[0m\u001b[1;33m(\u001b[0m\u001b[0mkernel\u001b[0m\u001b[1;33m=\u001b[0m\u001b[1;34m\"linear\"\u001b[0m\u001b[1;33m,\u001b[0m \u001b[0mrandom_state\u001b[0m\u001b[1;33m=\u001b[0m\u001b[1;36m7\u001b[0m\u001b[1;33m)\u001b[0m\u001b[1;33m\u001b[0m\u001b[1;33m\u001b[0m\u001b[0m\n\u001b[0m\u001b[0;32m      2\u001b[0m \u001b[0msvm\u001b[0m \u001b[1;33m=\u001b[0m \u001b[0mSVC\u001b[0m\u001b[1;33m(\u001b[0m\u001b[0mkernel\u001b[0m\u001b[1;33m=\u001b[0m\u001b[1;34m\"linear\"\u001b[0m\u001b[1;33m,\u001b[0m \u001b[0mrandom_state\u001b[0m\u001b[1;33m=\u001b[0m\u001b[1;36m7\u001b[0m\u001b[1;33m)\u001b[0m\u001b[1;33m\u001b[0m\u001b[1;33m\u001b[0m\u001b[0m\n\u001b[0;32m      3\u001b[0m \u001b[0msvm\u001b[0m\u001b[1;33m.\u001b[0m\u001b[0mfit\u001b[0m\u001b[1;33m(\u001b[0m\u001b[0mxtrain\u001b[0m\u001b[1;33m,\u001b[0m \u001b[0mytrain\u001b[0m\u001b[1;33m)\u001b[0m \u001b[1;31m#train\u001b[0m\u001b[1;33m\u001b[0m\u001b[1;33m\u001b[0m\u001b[0m\n",
      "\u001b[1;31mNameError\u001b[0m: name 'NuSVC' is not defined"
     ]
    }
   ],
   "source": [
    "svm = NuSVC(kernel=\"linear\", random_state=7)\n",
    "svm = SVC(kernel=\"linear\", random_state=7)\n",
    "svm.fit(xtrain, ytrain) #train"
   ]
  },
  {
   "cell_type": "code",
   "execution_count": null,
   "id": "60b0d473-470c-436c-a3c0-9201f864006e",
   "metadata": {},
   "outputs": [],
   "source": [
    "xtest_sc = sc.transform(xtest)\n",
    "svm.predict(xtest_sc)           #predict"
   ]
  },
  {
   "cell_type": "code",
   "execution_count": null,
   "id": "2c68d2e7-78c3-4cd9-99a0-497c7bab4255",
   "metadata": {},
   "outputs": [],
   "source": []
  },
  {
   "cell_type": "code",
   "execution_count": null,
   "id": "da334bde-0551-4b28-8684-46ac5fbebbdf",
   "metadata": {},
   "outputs": [],
   "source": []
  },
  {
   "cell_type": "code",
   "execution_count": null,
   "id": "b7def4aa-3cac-4168-9a90-d764c8261edd",
   "metadata": {},
   "outputs": [],
   "source": []
  },
  {
   "cell_type": "code",
   "execution_count": null,
   "id": "0322d58a-d5bf-4009-afee-939a56937b82",
   "metadata": {},
   "outputs": [],
   "source": []
  },
  {
   "cell_type": "code",
   "execution_count": null,
   "id": "72671322-4c0a-4026-9d6c-b76e88b25a1d",
   "metadata": {},
   "outputs": [],
   "source": []
  },
  {
   "cell_type": "code",
   "execution_count": null,
   "id": "066d5d53-ec00-47fb-afc7-a6ffd014f48e",
   "metadata": {},
   "outputs": [],
   "source": []
  },
  {
   "cell_type": "code",
   "execution_count": null,
   "id": "88b9e59e-68c2-40a1-a7b2-1e64f9573576",
   "metadata": {},
   "outputs": [],
   "source": []
  },
  {
   "cell_type": "code",
   "execution_count": null,
   "id": "1a736e2b-d77a-44ba-81c8-8ea3da4268f6",
   "metadata": {},
   "outputs": [],
   "source": []
  },
  {
   "cell_type": "code",
   "execution_count": null,
   "id": "1fe65dbf-d63e-4744-8fa3-873571539c8c",
   "metadata": {},
   "outputs": [],
   "source": []
  },
  {
   "cell_type": "code",
   "execution_count": null,
   "id": "40fb6510-b4d0-474a-8600-81eb5957f1d5",
   "metadata": {},
   "outputs": [],
   "source": []
  },
  {
   "cell_type": "code",
   "execution_count": null,
   "id": "7fbae062-ebe0-418e-8e7c-40b7206a089a",
   "metadata": {},
   "outputs": [],
   "source": []
  },
  {
   "cell_type": "code",
   "execution_count": null,
   "id": "095c4799-dd34-4017-8cb3-911e1ff8f278",
   "metadata": {},
   "outputs": [],
   "source": []
  },
  {
   "cell_type": "code",
   "execution_count": null,
   "id": "6b973d5b-28d5-4077-8b19-7f2d2562ec6c",
   "metadata": {},
   "outputs": [],
   "source": []
  },
  {
   "cell_type": "code",
   "execution_count": null,
   "id": "745f51c5-bb19-4ffe-9b26-e084e2665dc1",
   "metadata": {},
   "outputs": [],
   "source": []
  },
  {
   "cell_type": "code",
   "execution_count": null,
   "id": "4ec39913-da14-4298-96f6-fc648e1970e8",
   "metadata": {},
   "outputs": [],
   "source": []
  },
  {
   "cell_type": "code",
   "execution_count": null,
   "id": "40ac227e-0fd7-4d72-873c-19c067240194",
   "metadata": {},
   "outputs": [],
   "source": []
  },
  {
   "cell_type": "code",
   "execution_count": null,
   "id": "2770018a-2e9d-4b93-a619-3088b996bc72",
   "metadata": {},
   "outputs": [],
   "source": [
    "le.inverse_transform(df[\"encoded_dialect\"])"
   ]
  },
  {
   "cell_type": "code",
   "execution_count": 1,
   "id": "1c8b75f9-4a1b-4853-8493-2fd904e635e4",
   "metadata": {},
   "outputs": [],
   "source": [
    "# df = pd.merge(txt_df, label_df, left_index=True, right_index=True)\n",
    "# df = pd.concat([txt_df, label_df], axis=1)\n",
    "# df"
   ]
  },
  {
   "cell_type": "code",
   "execution_count": null,
   "id": "35a8a264-cf4b-4b9e-8640-20489de3875f",
   "metadata": {},
   "outputs": [],
   "source": []
  }
 ],
 "metadata": {
  "kernelspec": {
   "display_name": "Python 3 (ipykernel)",
   "language": "python",
   "name": "python3"
  },
  "language_info": {
   "codemirror_mode": {
    "name": "ipython",
    "version": 3
   },
   "file_extension": ".py",
   "mimetype": "text/x-python",
   "name": "python",
   "nbconvert_exporter": "python",
   "pygments_lexer": "ipython3",
   "version": "3.10.0"
  }
 },
 "nbformat": 4,
 "nbformat_minor": 5
}
