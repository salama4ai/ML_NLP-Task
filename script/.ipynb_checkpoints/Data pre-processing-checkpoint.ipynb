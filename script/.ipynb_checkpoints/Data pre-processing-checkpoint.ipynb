{
 "cells": [
  {
   "cell_type": "code",
   "execution_count": 1,
   "id": "cfc3bd71-3414-4c7d-9461-5d53a557b72c",
   "metadata": {},
   "outputs": [],
   "source": [
    "# importing packages\n",
    "import pandas as pd\n",
    "import re\n",
    "import string\n",
    "import matplotlib.pyplot as plt"
   ]
  },
  {
   "cell_type": "markdown",
   "id": "77f12b8f-f84c-4740-84c4-a52081c2b722",
   "metadata": {
    "tags": []
   },
   "source": [
    "### preprocessing\n",
    "* replace '#' with space\n",
    "* replace '_' with space\n",
    "* remove all characters except arabic ones\n",
    "* removing punctuation, numbers, special characters\n",
    "* removing diacritics\n",
    "* normalize arabic characters\n",
    "* remove multiple characters, remove multiple spaces"
   ]
  },
  {
   "cell_type": "markdown",
   "id": "1faa041f-67d0-4f43-b32b-3fe2ade6207f",
   "metadata": {},
   "source": [
    "- **i will not make stemming or limmatization as this will destroy the main informaion needed for this task**\n",
    "- **also removing stop words may remove valuable information**\n",
    "- there aren't upper case characters to lower, or urls to remove"
   ]
  },
  {
   "cell_type": "code",
   "execution_count": 2,
   "id": "83b67a8d-5a6f-4c38-a8b7-90e8fad8f9da",
   "metadata": {},
   "outputs": [],
   "source": [
    "arabic_punctuations = '''`÷×؛<>_()*&^%][ـ،/:\"؟.,'{}~¦+|!”…“–ـ'''\n",
    "english_punctuations = string.punctuation\n",
    "punctuations_list = arabic_punctuations + english_punctuations\n",
    "\n",
    "arabic_diacritics = re.compile(\"\"\"\n",
    "                             ّ    | # Tashdid\n",
    "                             َ    | # Fatha\n",
    "                             ً    | # Tanwin Fath\n",
    "                             ُ    | # Damma\n",
    "                             ٌ    | # Tanwin Damm\n",
    "                             ِ    | # Kasra\n",
    "                             ٍ    | # Tanwin Kasr\n",
    "                             ْ    | # Sukun\n",
    "                             ـ     # Tatwil/Kashida\n",
    "                             \"\"\", re.VERBOSE)\n",
    "\n",
    "def remove_diacritics(text):\n",
    "    text = re.sub(arabic_diacritics, '', text)\n",
    "    return text\n",
    "\n",
    "def normalize_arabic(text):\n",
    "    text = re.sub(\"[إأآا]\", \"ا\", text)\n",
    "    text = re.sub(\"ى\", \"ي\", text)\n",
    "    text = re.sub(\"ؤ\", \"ء\", text)\n",
    "    text = re.sub(\"ئ\", \"ء\", text)\n",
    "    text = re.sub(\"ة\", \"ه\", text)\n",
    "    text = re.sub(\"گ\", \"ك\", text)   # i keep this because this one contains useful feature as specially iraq uses this character\n",
    "    return text\n",
    "\n",
    "def remove_punctuations(text):\n",
    "    translator = str.maketrans('', '', punctuations_list)\n",
    "    return text.translate(translator)\n",
    "\n",
    "def remove_repeating_char(text):\n",
    "    return re.sub(r'(.)\\1+', r'\\1', text)\n",
    "\n",
    "def clean_text(text):\n",
    "    t = re.sub(r'#', ' ', text) # replace '#' with space\n",
    "    t = re.sub(r'_', ' ', t)    # replace '_' with space\n",
    "    t = re.sub(r'[^\\u0600-\\u06FF]', ' ', t) # remove all characters except arabic ones\n",
    "    t = remove_diacritics(t) \n",
    "    t = remove_punctuations(t) # remove the remained punctuations, actually the remains are only \"\"\" ?,; \"\"\"\n",
    "    t = normalize_arabic(t)    # replace speacial arabic characters with some how general ones\n",
    "    t = re.sub(r' +', ' ', t)  # remove multiple spaces, also can done with re.sub(r'/\\s\\s+/g', ' ', text)\n",
    "    t = remove_repeating_char(t)\n",
    "    return t\n",
    "    "
   ]
  },
  {
   "cell_type": "code",
   "execution_count": 3,
   "id": "9c3062e6-7af1-4906-b6f1-71897f5c52dc",
   "metadata": {},
   "outputs": [
    {
     "data": {
      "text/html": [
       "<div>\n",
       "<style scoped>\n",
       "    .dataframe tbody tr th:only-of-type {\n",
       "        vertical-align: middle;\n",
       "    }\n",
       "\n",
       "    .dataframe tbody tr th {\n",
       "        vertical-align: top;\n",
       "    }\n",
       "\n",
       "    .dataframe thead th {\n",
       "        text-align: right;\n",
       "    }\n",
       "</style>\n",
       "<table border=\"1\" class=\"dataframe\">\n",
       "  <thead>\n",
       "    <tr style=\"text-align: right;\">\n",
       "      <th></th>\n",
       "      <th>raw_txt</th>\n",
       "    </tr>\n",
       "    <tr>\n",
       "      <th>id</th>\n",
       "      <th></th>\n",
       "    </tr>\n",
       "  </thead>\n",
       "  <tbody>\n",
       "    <tr>\n",
       "      <th>1175358310087892992</th>\n",
       "      <td>@Nw8ieJUwaCAAreT لكن بالنهاية .. ينتفض .. يغير .</td>\n",
       "    </tr>\n",
       "    <tr>\n",
       "      <th>1175416117793349632</th>\n",
       "      <td>@7zNqXP0yrODdRjK يعني هذا محسوب على البشر .. ح...</td>\n",
       "    </tr>\n",
       "    <tr>\n",
       "      <th>1175450108898565888</th>\n",
       "      <td>@KanaanRema مبين من كلامه خليجي</td>\n",
       "    </tr>\n",
       "    <tr>\n",
       "      <th>1175471073770573824</th>\n",
       "      <td>@HAIDER76128900 يسلملي مرورك وروحك الحلوه💐</td>\n",
       "    </tr>\n",
       "    <tr>\n",
       "      <th>1175496913145217024</th>\n",
       "      <td>@hmo2406 وين هل الغيبه  اخ محمد 🌸🌺</td>\n",
       "    </tr>\n",
       "  </tbody>\n",
       "</table>\n",
       "</div>"
      ],
      "text/plain": [
       "                                                               raw_txt\n",
       "id                                                                    \n",
       "1175358310087892992   @Nw8ieJUwaCAAreT لكن بالنهاية .. ينتفض .. يغير .\n",
       "1175416117793349632  @7zNqXP0yrODdRjK يعني هذا محسوب على البشر .. ح...\n",
       "1175450108898565888                    @KanaanRema مبين من كلامه خليجي\n",
       "1175471073770573824         @HAIDER76128900 يسلملي مرورك وروحك الحلوه💐\n",
       "1175496913145217024                 @hmo2406 وين هل الغيبه  اخ محمد 🌸🌺"
      ]
     },
     "execution_count": 3,
     "metadata": {},
     "output_type": "execute_result"
    }
   ],
   "source": [
    "raw_df = pd.read_csv(\"../csv_files/raw_txt_df.csv\", index_col=\"id\")\n",
    "raw_df.head()"
   ]
  },
  {
   "cell_type": "code",
   "execution_count": 4,
   "id": "b8376f76-10b7-4ac0-920e-ed366bc2109f",
   "metadata": {},
   "outputs": [
    {
     "data": {
      "text/html": [
       "<div>\n",
       "<style scoped>\n",
       "    .dataframe tbody tr th:only-of-type {\n",
       "        vertical-align: middle;\n",
       "    }\n",
       "\n",
       "    .dataframe tbody tr th {\n",
       "        vertical-align: top;\n",
       "    }\n",
       "\n",
       "    .dataframe thead th {\n",
       "        text-align: right;\n",
       "    }\n",
       "</style>\n",
       "<table border=\"1\" class=\"dataframe\">\n",
       "  <thead>\n",
       "    <tr style=\"text-align: right;\">\n",
       "      <th></th>\n",
       "      <th>raw_txt</th>\n",
       "      <th>txt</th>\n",
       "    </tr>\n",
       "    <tr>\n",
       "      <th>id</th>\n",
       "      <th></th>\n",
       "      <th></th>\n",
       "    </tr>\n",
       "  </thead>\n",
       "  <tbody>\n",
       "    <tr>\n",
       "      <th>1175358310087892992</th>\n",
       "      <td>@Nw8ieJUwaCAAreT لكن بالنهاية .. ينتفض .. يغير .</td>\n",
       "      <td>لكن بالنهايه ينتفض يغير</td>\n",
       "    </tr>\n",
       "    <tr>\n",
       "      <th>1175416117793349632</th>\n",
       "      <td>@7zNqXP0yrODdRjK يعني هذا محسوب على البشر .. ح...</td>\n",
       "      <td>يعني هذا محسوب علي البشر حيونه وحشيه وتطلبون ...</td>\n",
       "    </tr>\n",
       "    <tr>\n",
       "      <th>1175450108898565888</th>\n",
       "      <td>@KanaanRema مبين من كلامه خليجي</td>\n",
       "      <td>مبين من كلامه خليجي</td>\n",
       "    </tr>\n",
       "    <tr>\n",
       "      <th>1175471073770573824</th>\n",
       "      <td>@HAIDER76128900 يسلملي مرورك وروحك الحلوه💐</td>\n",
       "      <td>يسلملي مرورك وروحك الحلوه</td>\n",
       "    </tr>\n",
       "    <tr>\n",
       "      <th>1175496913145217024</th>\n",
       "      <td>@hmo2406 وين هل الغيبه  اخ محمد 🌸🌺</td>\n",
       "      <td>وين هل الغيبه اخ محمد</td>\n",
       "    </tr>\n",
       "  </tbody>\n",
       "</table>\n",
       "</div>"
      ],
      "text/plain": [
       "                                                               raw_txt  \\\n",
       "id                                                                       \n",
       "1175358310087892992   @Nw8ieJUwaCAAreT لكن بالنهاية .. ينتفض .. يغير .   \n",
       "1175416117793349632  @7zNqXP0yrODdRjK يعني هذا محسوب على البشر .. ح...   \n",
       "1175450108898565888                    @KanaanRema مبين من كلامه خليجي   \n",
       "1175471073770573824         @HAIDER76128900 يسلملي مرورك وروحك الحلوه💐   \n",
       "1175496913145217024                 @hmo2406 وين هل الغيبه  اخ محمد 🌸🌺   \n",
       "\n",
       "                                                                   txt  \n",
       "id                                                                      \n",
       "1175358310087892992                           لكن بالنهايه ينتفض يغير   \n",
       "1175416117793349632   يعني هذا محسوب علي البشر حيونه وحشيه وتطلبون ...  \n",
       "1175450108898565888                                مبين من كلامه خليجي  \n",
       "1175471073770573824                         يسلملي مرورك وروحك الحلوه   \n",
       "1175496913145217024                             وين هل الغيبه اخ محمد   "
      ]
     },
     "execution_count": 4,
     "metadata": {},
     "output_type": "execute_result"
    }
   ],
   "source": [
    "raw_df[\"txt\"] = [clean_text(text) for text in raw_df[\"raw_txt\"]]\n",
    "raw_df.head()"
   ]
  },
  {
   "cell_type": "code",
   "execution_count": 5,
   "id": "53ad25a4-5810-4f65-8230-babd008a735b",
   "metadata": {},
   "outputs": [
    {
     "data": {
      "text/html": [
       "<div>\n",
       "<style scoped>\n",
       "    .dataframe tbody tr th:only-of-type {\n",
       "        vertical-align: middle;\n",
       "    }\n",
       "\n",
       "    .dataframe tbody tr th {\n",
       "        vertical-align: top;\n",
       "    }\n",
       "\n",
       "    .dataframe thead th {\n",
       "        text-align: right;\n",
       "    }\n",
       "</style>\n",
       "<table border=\"1\" class=\"dataframe\">\n",
       "  <thead>\n",
       "    <tr style=\"text-align: right;\">\n",
       "      <th></th>\n",
       "      <th>txt</th>\n",
       "      <th>dialect</th>\n",
       "    </tr>\n",
       "    <tr>\n",
       "      <th>id</th>\n",
       "      <th></th>\n",
       "      <th></th>\n",
       "    </tr>\n",
       "  </thead>\n",
       "  <tbody>\n",
       "    <tr>\n",
       "      <th>1175358310087892992</th>\n",
       "      <td>لكن بالنهايه ينتفض يغير</td>\n",
       "      <td>IQ</td>\n",
       "    </tr>\n",
       "    <tr>\n",
       "      <th>1175416117793349632</th>\n",
       "      <td>يعني هذا محسوب علي البشر حيونه وحشيه وتطلبون ...</td>\n",
       "      <td>IQ</td>\n",
       "    </tr>\n",
       "    <tr>\n",
       "      <th>1175450108898565888</th>\n",
       "      <td>مبين من كلامه خليجي</td>\n",
       "      <td>IQ</td>\n",
       "    </tr>\n",
       "    <tr>\n",
       "      <th>1175471073770573824</th>\n",
       "      <td>يسلملي مرورك وروحك الحلوه</td>\n",
       "      <td>IQ</td>\n",
       "    </tr>\n",
       "    <tr>\n",
       "      <th>1175496913145217024</th>\n",
       "      <td>وين هل الغيبه اخ محمد</td>\n",
       "      <td>IQ</td>\n",
       "    </tr>\n",
       "  </tbody>\n",
       "</table>\n",
       "</div>"
      ],
      "text/plain": [
       "                                                                   txt dialect\n",
       "id                                                                            \n",
       "1175358310087892992                           لكن بالنهايه ينتفض يغير       IQ\n",
       "1175416117793349632   يعني هذا محسوب علي البشر حيونه وحشيه وتطلبون ...      IQ\n",
       "1175450108898565888                                مبين من كلامه خليجي      IQ\n",
       "1175471073770573824                         يسلملي مرورك وروحك الحلوه       IQ\n",
       "1175496913145217024                             وين هل الغيبه اخ محمد       IQ"
      ]
     },
     "execution_count": 5,
     "metadata": {},
     "output_type": "execute_result"
    }
   ],
   "source": [
    "label_df = pd.read_csv(\"../csv_files/dialect_dataset.csv\", index_col=\"id\")\n",
    "df = pd.merge(raw_df[\"txt\"], label_df, left_index=True, right_index=True) # === pd.concat([txt_df, label_df], axis=1)\n",
    "df.head()"
   ]
  },
  {
   "cell_type": "code",
   "execution_count": 6,
   "id": "9c056895-b06c-4e40-a31d-d31e7964d18b",
   "metadata": {},
   "outputs": [
    {
     "name": "stdout",
     "output_type": "stream",
     "text": [
      "<class 'pandas.core.frame.DataFrame'>\n",
      "Int64Index: 458197 entries, 1175358310087892992 to 1022409931029458944\n",
      "Data columns (total 2 columns):\n",
      " #   Column   Non-Null Count   Dtype \n",
      "---  ------   --------------   ----- \n",
      " 0   txt      458197 non-null  object\n",
      " 1   dialect  458197 non-null  object\n",
      "dtypes: object(2)\n",
      "memory usage: 26.6+ MB\n"
     ]
    }
   ],
   "source": [
    "df.info()"
   ]
  },
  {
   "cell_type": "code",
   "execution_count": 7,
   "id": "9e9e379f-e050-4bf7-9c7e-5c936d86c066",
   "metadata": {},
   "outputs": [
    {
     "data": {
      "text/html": [
       "<div>\n",
       "<style scoped>\n",
       "    .dataframe tbody tr th:only-of-type {\n",
       "        vertical-align: middle;\n",
       "    }\n",
       "\n",
       "    .dataframe tbody tr th {\n",
       "        vertical-align: top;\n",
       "    }\n",
       "\n",
       "    .dataframe thead th {\n",
       "        text-align: right;\n",
       "    }\n",
       "</style>\n",
       "<table border=\"1\" class=\"dataframe\">\n",
       "  <thead>\n",
       "    <tr style=\"text-align: right;\">\n",
       "      <th></th>\n",
       "      <th>txt</th>\n",
       "      <th>dialect</th>\n",
       "    </tr>\n",
       "  </thead>\n",
       "  <tbody>\n",
       "    <tr>\n",
       "      <th>count</th>\n",
       "      <td>458197</td>\n",
       "      <td>458197</td>\n",
       "    </tr>\n",
       "    <tr>\n",
       "      <th>unique</th>\n",
       "      <td>457505</td>\n",
       "      <td>18</td>\n",
       "    </tr>\n",
       "    <tr>\n",
       "      <th>top</th>\n",
       "      <td></td>\n",
       "      <td>EG</td>\n",
       "    </tr>\n",
       "    <tr>\n",
       "      <th>freq</th>\n",
       "      <td>146</td>\n",
       "      <td>57636</td>\n",
       "    </tr>\n",
       "  </tbody>\n",
       "</table>\n",
       "</div>"
      ],
      "text/plain": [
       "           txt dialect\n",
       "count   458197  458197\n",
       "unique  457505      18\n",
       "top                 EG\n",
       "freq       146   57636"
      ]
     },
     "execution_count": 7,
     "metadata": {},
     "output_type": "execute_result"
    }
   ],
   "source": [
    "df.describe()"
   ]
  },
  {
   "cell_type": "code",
   "execution_count": 8,
   "id": "9c6bc2bd-0ea7-4314-b395-922753b82e94",
   "metadata": {},
   "outputs": [
    {
     "data": {
      "text/plain": [
       "0"
      ]
     },
     "execution_count": 8,
     "metadata": {},
     "output_type": "execute_result"
    }
   ],
   "source": [
    "df[\"dialect\"].isna().sum()"
   ]
  },
  {
   "cell_type": "code",
   "execution_count": 9,
   "id": "9a89801c-b8e2-41d0-9274-d8c2663455f9",
   "metadata": {},
   "outputs": [
    {
     "data": {
      "text/plain": [
       "0"
      ]
     },
     "execution_count": 9,
     "metadata": {},
     "output_type": "execute_result"
    }
   ],
   "source": [
    "df[\"txt\"].isna().sum()"
   ]
  },
  {
   "cell_type": "code",
   "execution_count": 10,
   "id": "1b8642ff-bd29-4f98-a871-60a40f0997cd",
   "metadata": {},
   "outputs": [
    {
     "name": "stdout",
     "output_type": "stream",
     "text": [
      "EG    57636\n",
      "PL    43742\n",
      "KW    42109\n",
      "LY    36499\n",
      "QA    31069\n",
      "JO    27921\n",
      "LB    27617\n",
      "SA    26832\n",
      "AE    26296\n",
      "BH    26292\n",
      "OM    19116\n",
      "SY    16242\n",
      "DZ    16183\n",
      "IQ    15497\n",
      "SD    14434\n",
      "MA    11539\n",
      "YE     9927\n",
      "TN     9246\n",
      "Name: dialect, dtype: int64\n"
     ]
    },
    {
     "data": {
      "image/png": "[encoded data removed]",
      "text/plain": [
       "<Figure size 432x288 with 1 Axes>"
      ]
     },
     "metadata": {
      "needs_background": "light"
     },
     "output_type": "display_data"
    }
   ],
   "source": [
    "val_count = df[\"dialect\"].value_counts()\n",
    "plt.bar(x=val_count.index, height=val_count)\n",
    "plt.yticks(list(range(5000, 60000, 5000)))\n",
    "plt.grid(axis=\"y\", ls='-.') \n",
    "print(val_count)"
   ]
  },
  {
   "cell_type": "markdown",
   "id": "d8f90aee-63dd-4b63-a05f-6d68b9656d33",
   "metadata": {},
   "source": [
    "The brevious chart shows that the data is imbalanced,as example number of \"EG\" category instances is higher that \"TN\" or \"YE\" ones,  we will fix this issue."
   ]
  },
  {
   "cell_type": "code",
   "execution_count": 11,
   "id": "9ee2b8ab-f0ac-4f53-92c9-4854d880b51e",
   "metadata": {},
   "outputs": [
    {
     "data": {
      "text/plain": [
       "(458197, 2)"
      ]
     },
     "execution_count": 11,
     "metadata": {},
     "output_type": "execute_result"
    }
   ],
   "source": [
    "# drop null rows\n",
    "df.dropna(inplace=True)\n",
    "df.shape\n",
    "# no null values was existed "
   ]
  },
  {
   "cell_type": "code",
   "execution_count": 12,
   "id": "85cb15d8-4eb5-44b9-bf73-f480f5a4207d",
   "metadata": {},
   "outputs": [
    {
     "data": {
      "text/plain": [
       "(457914, 2)"
      ]
     },
     "execution_count": 12,
     "metadata": {},
     "output_type": "execute_result"
    }
   ],
   "source": [
    "# drop identical rows\n",
    "df.drop_duplicates(inplace=True)\n",
    "df.shape\n",
    "# (458197 - 457914) = 283 rows was deleted by this cell"
   ]
  },
  {
   "cell_type": "code",
   "execution_count": 13,
   "id": "9d2fd9a4-6612-41f1-a626-7823b21f165e",
   "metadata": {},
   "outputs": [
    {
     "data": {
      "text/plain": [
       "txt        457505\n",
       "dialect        18\n",
       "dtype: int64"
      ]
     },
     "execution_count": 13,
     "metadata": {},
     "output_type": "execute_result"
    }
   ],
   "source": [
    "df.nunique()\n",
    "# there are duplicated values in the txt-column"
   ]
  },
  {
   "cell_type": "markdown",
   "id": "51266133-2e86-4e35-9319-0fa33e0b5449",
   "metadata": {},
   "source": [
    "- **droping the rows of the txt-column dublicated values i.e (duplicated txt-column values that have different dialects)**"
   ]
  },
  {
   "cell_type": "code",
   "execution_count": 14,
   "id": "58fc3aa3-8683-439b-8aeb-3bb3e956abff",
   "metadata": {},
   "outputs": [
    {
     "data": {
      "text/plain": [
       "(457505, 2)"
      ]
     },
     "execution_count": 14,
     "metadata": {},
     "output_type": "execute_result"
    }
   ],
   "source": [
    "# honestly i'm not very sure if this step is correct\n",
    "df.drop_duplicates(subset='txt', inplace=True)\n",
    "df.shape\n",
    "# (457914 - 457505) = 409 rows is removed by this cell"
   ]
  },
  {
   "cell_type": "markdown",
   "id": "75338cb9-3617-42ac-b097-25d5976bd12c",
   "metadata": {},
   "source": [
    "- **i will remove very short naive txt that can't reliably used to determine the dialect, i tried string lengths(7-19) to find suitable short string length before i satisfied with '9'**"
   ]
  },
  {
   "cell_type": "code",
   "execution_count": 15,
   "id": "c3b56af1-4e6d-487f-9968-61c2800b981d",
   "metadata": {},
   "outputs": [
    {
     "data": {
      "text/html": [
       "<div>\n",
       "<style scoped>\n",
       "    .dataframe tbody tr th:only-of-type {\n",
       "        vertical-align: middle;\n",
       "    }\n",
       "\n",
       "    .dataframe tbody tr th {\n",
       "        vertical-align: top;\n",
       "    }\n",
       "\n",
       "    .dataframe thead th {\n",
       "        text-align: right;\n",
       "    }\n",
       "</style>\n",
       "<table border=\"1\" class=\"dataframe\">\n",
       "  <thead>\n",
       "    <tr style=\"text-align: right;\">\n",
       "      <th></th>\n",
       "      <th>txt</th>\n",
       "      <th>dialect</th>\n",
       "    </tr>\n",
       "    <tr>\n",
       "      <th>id</th>\n",
       "      <th></th>\n",
       "      <th></th>\n",
       "    </tr>\n",
       "  </thead>\n",
       "  <tbody>\n",
       "    <tr>\n",
       "      <th>471056063672750080</th>\n",
       "      <td></td>\n",
       "      <td>IQ</td>\n",
       "    </tr>\n",
       "    <tr>\n",
       "      <th>554726548751011840</th>\n",
       "      <td>كون ني</td>\n",
       "      <td>IQ</td>\n",
       "    </tr>\n",
       "    <tr>\n",
       "      <th>390471289649258496</th>\n",
       "      <td>و</td>\n",
       "      <td>IQ</td>\n",
       "    </tr>\n",
       "    <tr>\n",
       "      <th>960352111656689664</th>\n",
       "      <td>ء طرف</td>\n",
       "      <td>LY</td>\n",
       "    </tr>\n",
       "    <tr>\n",
       "      <th>728385183779540992</th>\n",
       "      <td>ت ليبيا</td>\n",
       "      <td>LY</td>\n",
       "    </tr>\n",
       "    <tr>\n",
       "      <th>...</th>\n",
       "      <td>...</td>\n",
       "      <td>...</td>\n",
       "    </tr>\n",
       "    <tr>\n",
       "      <th>817438639407976448</th>\n",
       "      <td>تندم ز</td>\n",
       "      <td>AE</td>\n",
       "    </tr>\n",
       "    <tr>\n",
       "      <th>659466818218647552</th>\n",
       "      <td>ي</td>\n",
       "      <td>AE</td>\n",
       "    </tr>\n",
       "    <tr>\n",
       "      <th>352646650252103680</th>\n",
       "      <td>ك زين</td>\n",
       "      <td>AE</td>\n",
       "    </tr>\n",
       "    <tr>\n",
       "      <th>448446877286277120</th>\n",
       "      <td>جميل</td>\n",
       "      <td>BH</td>\n",
       "    </tr>\n",
       "    <tr>\n",
       "      <th>984701982366732416</th>\n",
       "      <td>ه</td>\n",
       "      <td>BH</td>\n",
       "    </tr>\n",
       "  </tbody>\n",
       "</table>\n",
       "<p>91 rows × 2 columns</p>\n",
       "</div>"
      ],
      "text/plain": [
       "                         txt dialect\n",
       "id                                  \n",
       "471056063672750080                IQ\n",
       "554726548751011840   كون ني       IQ\n",
       "390471289649258496        و       IQ\n",
       "960352111656689664    ء طرف       LY\n",
       "728385183779540992   ت ليبيا      LY\n",
       "...                      ...     ...\n",
       "817438639407976448   تندم ز       AE\n",
       "659466818218647552         ي      AE\n",
       "352646650252103680    ك زين       AE\n",
       "448446877286277120     جميل       BH\n",
       "984701982366732416        ه       BH\n",
       "\n",
       "[91 rows x 2 columns]"
      ]
     },
     "execution_count": 15,
     "metadata": {},
     "output_type": "execute_result"
    }
   ],
   "source": [
    "df[df.txt.str.len()<9]"
   ]
  },
  {
   "cell_type": "code",
   "execution_count": 16,
   "id": "5193d588-e93d-4e19-afd5-1bd98feb6b25",
   "metadata": {},
   "outputs": [
    {
     "data": {
      "text/plain": [
       "(457414, 2)"
      ]
     },
     "execution_count": 16,
     "metadata": {},
     "output_type": "execute_result"
    }
   ],
   "source": [
    "df.drop(index=df[df.txt.str.len()<9].index, inplace=True)\n",
    "df.shape\n",
    "# 91 rows removed by this cell"
   ]
  },
  {
   "cell_type": "code",
   "execution_count": 17,
   "id": "58110994-2472-4331-ad99-434e313fe38f",
   "metadata": {
    "tags": []
   },
   "outputs": [
    {
     "name": "stderr",
     "output_type": "stream",
     "text": [
      "[nltk_data] Downloading package punkt to\n",
      "[nltk_data]     C:\\Users\\huzyfa\\AppData\\Roaming\\nltk_data...\n",
      "[nltk_data]   Package punkt is already up-to-date!\n"
     ]
    },
    {
     "data": {
      "text/plain": [
       "id\n",
       "1175358310087892992                         [لكن, بالنهايه, ينتفض, يغير]\n",
       "1175416117793349632    [يعني, هذا, محسوب, علي, البشر, حيونه, وحشيه, و...\n",
       "1175450108898565888                             [مبين, من, كلامه, خليجي]\n",
       "1175471073770573824                       [يسلملي, مرورك, وروحك, الحلوه]\n",
       "1175496913145217024                          [وين, هل, الغيبه, اخ, محمد]\n",
       "Name: txt_tok, dtype: object"
      ]
     },
     "execution_count": 17,
     "metadata": {},
     "output_type": "execute_result"
    }
   ],
   "source": [
    "# tokenization\n",
    "import nltk\n",
    "nltk.download('punkt')\n",
    "from nltk.tokenize import word_tokenize\n",
    "#######################################################################\n",
    "\n",
    "# df[\"txt_tok\"] = [line.split() for line in df.txt]\n",
    "df[\"txt_tok\"] = [word_tokenize(line) for line in df.txt]\n",
    "df.txt_tok.head()"
   ]
  },
  {
   "cell_type": "code",
   "execution_count": 18,
   "id": "650e4acc-c625-4ecb-bb72-e1ad603d7ff7",
   "metadata": {},
   "outputs": [
    {
     "name": "stdout",
     "output_type": "stream",
     "text": [
      "<class 'pandas.core.frame.DataFrame'>\n",
      "Int64Index: 457414 entries, 1175358310087892992 to 1022409931029458944\n",
      "Data columns (total 3 columns):\n",
      " #   Column   Non-Null Count   Dtype \n",
      "---  ------   --------------   ----- \n",
      " 0   txt      457414 non-null  object\n",
      " 1   dialect  457414 non-null  object\n",
      " 2   txt_tok  457414 non-null  object\n",
      "dtypes: object(3)\n",
      "memory usage: 14.0+ MB\n"
     ]
    }
   ],
   "source": [
    "df.info()"
   ]
  },
  {
   "cell_type": "code",
   "execution_count": 19,
   "id": "e471ec40-2bfa-4163-a76d-cbb8e7575f2c",
   "metadata": {},
   "outputs": [],
   "source": [
    "df.to_csv(\"../csv_files/preprocessed_df.csv\")"
   ]
  },
  {
   "cell_type": "code",
   "execution_count": 20,
   "id": "8fda1d4b-6cce-4336-9d98-f630049ed55d",
   "metadata": {},
   "outputs": [
    {
     "data": {
      "text/html": [
       "<div>\n",
       "<style scoped>\n",
       "    .dataframe tbody tr th:only-of-type {\n",
       "        vertical-align: middle;\n",
       "    }\n",
       "\n",
       "    .dataframe tbody tr th {\n",
       "        vertical-align: top;\n",
       "    }\n",
       "\n",
       "    .dataframe thead th {\n",
       "        text-align: right;\n",
       "    }\n",
       "</style>\n",
       "<table border=\"1\" class=\"dataframe\">\n",
       "  <thead>\n",
       "    <tr style=\"text-align: right;\">\n",
       "      <th></th>\n",
       "      <th>txt</th>\n",
       "      <th>dialect</th>\n",
       "      <th>txt_tok</th>\n",
       "    </tr>\n",
       "    <tr>\n",
       "      <th>id</th>\n",
       "      <th></th>\n",
       "      <th></th>\n",
       "      <th></th>\n",
       "    </tr>\n",
       "  </thead>\n",
       "  <tbody>\n",
       "    <tr>\n",
       "      <th>1175358310087892992</th>\n",
       "      <td>لكن بالنهايه ينتفض يغير</td>\n",
       "      <td>IQ</td>\n",
       "      <td>['لكن', 'بالنهايه', 'ينتفض', 'يغير']</td>\n",
       "    </tr>\n",
       "    <tr>\n",
       "      <th>1175416117793349632</th>\n",
       "      <td>يعني هذا محسوب علي البشر حيونه وحشيه وتطلبون ...</td>\n",
       "      <td>IQ</td>\n",
       "      <td>['يعني', 'هذا', 'محسوب', 'علي', 'البشر', 'حيون...</td>\n",
       "    </tr>\n",
       "    <tr>\n",
       "      <th>1175450108898565888</th>\n",
       "      <td>مبين من كلامه خليجي</td>\n",
       "      <td>IQ</td>\n",
       "      <td>['مبين', 'من', 'كلامه', 'خليجي']</td>\n",
       "    </tr>\n",
       "    <tr>\n",
       "      <th>1175471073770573824</th>\n",
       "      <td>يسلملي مرورك وروحك الحلوه</td>\n",
       "      <td>IQ</td>\n",
       "      <td>['يسلملي', 'مرورك', 'وروحك', 'الحلوه']</td>\n",
       "    </tr>\n",
       "    <tr>\n",
       "      <th>1175496913145217024</th>\n",
       "      <td>وين هل الغيبه اخ محمد</td>\n",
       "      <td>IQ</td>\n",
       "      <td>['وين', 'هل', 'الغيبه', 'اخ', 'محمد']</td>\n",
       "    </tr>\n",
       "  </tbody>\n",
       "</table>\n",
       "</div>"
      ],
      "text/plain": [
       "                                                                   txt  \\\n",
       "id                                                                       \n",
       "1175358310087892992                           لكن بالنهايه ينتفض يغير    \n",
       "1175416117793349632   يعني هذا محسوب علي البشر حيونه وحشيه وتطلبون ...   \n",
       "1175450108898565888                                مبين من كلامه خليجي   \n",
       "1175471073770573824                         يسلملي مرورك وروحك الحلوه    \n",
       "1175496913145217024                             وين هل الغيبه اخ محمد    \n",
       "\n",
       "                    dialect                                            txt_tok  \n",
       "id                                                                              \n",
       "1175358310087892992      IQ               ['لكن', 'بالنهايه', 'ينتفض', 'يغير']  \n",
       "1175416117793349632      IQ  ['يعني', 'هذا', 'محسوب', 'علي', 'البشر', 'حيون...  \n",
       "1175450108898565888      IQ                   ['مبين', 'من', 'كلامه', 'خليجي']  \n",
       "1175471073770573824      IQ             ['يسلملي', 'مرورك', 'وروحك', 'الحلوه']  \n",
       "1175496913145217024      IQ              ['وين', 'هل', 'الغيبه', 'اخ', 'محمد']  "
      ]
     },
     "execution_count": 20,
     "metadata": {},
     "output_type": "execute_result"
    }
   ],
   "source": [
    "pd.read_csv(\"../csv_files/preprocessed_df.csv\", index_col=\"id\").head()"
   ]
  },
  {
   "cell_type": "code",
   "execution_count": null,
   "id": "624b3a79-ab5b-4115-ac79-1bf3f032ec18",
   "metadata": {},
   "outputs": [],
   "source": []
  }
 ],
 "metadata": {
  "kernelspec": {
   "display_name": "Python 3 (ipykernel)",
   "language": "python",
   "name": "python3"
  },
  "language_info": {
   "codemirror_mode": {
    "name": "ipython",
    "version": 3
   },
   "file_extension": ".py",
   "mimetype": "text/x-python",
   "name": "python",
   "nbconvert_exporter": "python",
   "pygments_lexer": "ipython3",
   "version": "3.9.7"
  }
 },
 "nbformat": 4,
 "nbformat_minor": 5
}
