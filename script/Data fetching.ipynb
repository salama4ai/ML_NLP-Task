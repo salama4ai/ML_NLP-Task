{
 "cells": [
  {
   "cell_type": "code",
   "execution_count": 1,
   "id": "4fdd249f-44d2-4c06-b3da-2fa2ea045235",
   "metadata": {},
   "outputs": [],
   "source": [
    "# data fetching notebook"
   ]
  },
  {
   "cell_type": "code",
   "execution_count": 2,
   "id": "a5791ee6-c7f7-45ce-8be5-6beae740ea51",
   "metadata": {},
   "outputs": [],
   "source": [
    "# importing the needed packages\n",
    "import requests\n",
    "import pandas as pd\n",
    "from tqdm import tqdm"
   ]
  },
  {
   "cell_type": "code",
   "execution_count": 3,
   "id": "d0f09a85-627b-4582-86b2-edb3ce2cd2b1",
   "metadata": {},
   "outputs": [
    {
     "data": {
      "text/html": [
       "<div>\n",
       "<style scoped>\n",
       "    .dataframe tbody tr th:only-of-type {\n",
       "        vertical-align: middle;\n",
       "    }\n",
       "\n",
       "    .dataframe tbody tr th {\n",
       "        vertical-align: top;\n",
       "    }\n",
       "\n",
       "    .dataframe thead th {\n",
       "        text-align: right;\n",
       "    }\n",
       "</style>\n",
       "<table border=\"1\" class=\"dataframe\">\n",
       "  <thead>\n",
       "    <tr style=\"text-align: right;\">\n",
       "      <th></th>\n",
       "      <th>dialect</th>\n",
       "    </tr>\n",
       "    <tr>\n",
       "      <th>id</th>\n",
       "      <th></th>\n",
       "    </tr>\n",
       "  </thead>\n",
       "  <tbody>\n",
       "    <tr>\n",
       "      <th>1175358310087892992</th>\n",
       "      <td>IQ</td>\n",
       "    </tr>\n",
       "    <tr>\n",
       "      <th>1175416117793349632</th>\n",
       "      <td>IQ</td>\n",
       "    </tr>\n",
       "    <tr>\n",
       "      <th>1175450108898565888</th>\n",
       "      <td>IQ</td>\n",
       "    </tr>\n",
       "    <tr>\n",
       "      <th>1175471073770573824</th>\n",
       "      <td>IQ</td>\n",
       "    </tr>\n",
       "    <tr>\n",
       "      <th>1175496913145217024</th>\n",
       "      <td>IQ</td>\n",
       "    </tr>\n",
       "    <tr>\n",
       "      <th>...</th>\n",
       "      <td>...</td>\n",
       "    </tr>\n",
       "    <tr>\n",
       "      <th>1019484980282580992</th>\n",
       "      <td>BH</td>\n",
       "    </tr>\n",
       "    <tr>\n",
       "      <th>1021083283709407232</th>\n",
       "      <td>BH</td>\n",
       "    </tr>\n",
       "    <tr>\n",
       "      <th>1017477537889431552</th>\n",
       "      <td>BH</td>\n",
       "    </tr>\n",
       "    <tr>\n",
       "      <th>1022430374696239232</th>\n",
       "      <td>BH</td>\n",
       "    </tr>\n",
       "    <tr>\n",
       "      <th>1022409931029458944</th>\n",
       "      <td>BH</td>\n",
       "    </tr>\n",
       "  </tbody>\n",
       "</table>\n",
       "<p>458197 rows × 1 columns</p>\n",
       "</div>"
      ],
      "text/plain": [
       "                    dialect\n",
       "id                         \n",
       "1175358310087892992      IQ\n",
       "1175416117793349632      IQ\n",
       "1175450108898565888      IQ\n",
       "1175471073770573824      IQ\n",
       "1175496913145217024      IQ\n",
       "...                     ...\n",
       "1019484980282580992      BH\n",
       "1021083283709407232      BH\n",
       "1017477537889431552      BH\n",
       "1022430374696239232      BH\n",
       "1022409931029458944      BH\n",
       "\n",
       "[458197 rows x 1 columns]"
      ]
     },
     "execution_count": 3,
     "metadata": {},
     "output_type": "execute_result"
    }
   ],
   "source": [
    "# fetching the target column\n",
    "label_df = pd.read_csv(r\"D:\\aim\\ML_NLP-Task\\dialect_dataset.csv\", index_col=\"id\")\n",
    "label_df"
   ]
  },
  {
   "cell_type": "code",
   "execution_count": 4,
   "id": "4155316d-3227-493e-8b8f-f13464353dcc",
   "metadata": {},
   "outputs": [],
   "source": [
    "# fetching the text column\n",
    "idx = label_df.index.astype(\"str\").tolist()\n",
    "api_url = \"https://recruitment.aimtechnologies.co/ai-tasks\"\n",
    "timeout = 55\n",
    "data_df = {}"
   ]
  },
  {
   "cell_type": "code",
   "execution_count": 5,
   "id": "8e0584f3-89b9-40f5-b2c8-ac43c523d5a3",
   "metadata": {},
   "outputs": [
    {
     "name": "stderr",
     "output_type": "stream",
     "text": [
      "100%|████████████████████████████████████████████████████████████████████████████████| 459/459 [10:44<00:00,  1.40s/it]\n"
     ]
    }
   ],
   "source": [
    "for j in tqdm(range(0, len(idx), 1000)):\n",
    "    payload = idx[j:j+1000]\n",
    "    data_df.update(requests.post(api_url, json=payload, timeout=timeout).json())"
   ]
  },
  {
   "cell_type": "code",
   "execution_count": 6,
   "id": "ca2d6b76-49f2-483b-8b4f-a87c0bcbb1cc",
   "metadata": {},
   "outputs": [],
   "source": [
    "text_df = pd.DataFrame.from_dict(data_df, orient='index', columns=['text'])\n",
    "text_df.index.name = \"id\"\n",
    "text_df.index = text_df.index.astype(\"int64\")"
   ]
  },
  {
   "cell_type": "code",
   "execution_count": 7,
   "id": "d2bd7be7-5488-4912-8f20-5d02fab6f7ef",
   "metadata": {},
   "outputs": [
    {
     "data": {
      "text/html": [
       "<div>\n",
       "<style scoped>\n",
       "    .dataframe tbody tr th:only-of-type {\n",
       "        vertical-align: middle;\n",
       "    }\n",
       "\n",
       "    .dataframe tbody tr th {\n",
       "        vertical-align: top;\n",
       "    }\n",
       "\n",
       "    .dataframe thead th {\n",
       "        text-align: right;\n",
       "    }\n",
       "</style>\n",
       "<table border=\"1\" class=\"dataframe\">\n",
       "  <thead>\n",
       "    <tr style=\"text-align: right;\">\n",
       "      <th></th>\n",
       "      <th>text</th>\n",
       "      <th>dialect</th>\n",
       "    </tr>\n",
       "    <tr>\n",
       "      <th>id</th>\n",
       "      <th></th>\n",
       "      <th></th>\n",
       "    </tr>\n",
       "  </thead>\n",
       "  <tbody>\n",
       "    <tr>\n",
       "      <th>1175358310087892992</th>\n",
       "      <td>@Nw8ieJUwaCAAreT لكن بالنهاية .. ينتفض .. يغير .</td>\n",
       "      <td>IQ</td>\n",
       "    </tr>\n",
       "    <tr>\n",
       "      <th>1175416117793349632</th>\n",
       "      <td>@7zNqXP0yrODdRjK يعني هذا محسوب على البشر .. ح...</td>\n",
       "      <td>IQ</td>\n",
       "    </tr>\n",
       "    <tr>\n",
       "      <th>1175450108898565888</th>\n",
       "      <td>@KanaanRema مبين من كلامه خليجي</td>\n",
       "      <td>IQ</td>\n",
       "    </tr>\n",
       "    <tr>\n",
       "      <th>1175471073770573824</th>\n",
       "      <td>@HAIDER76128900 يسلملي مرورك وروحك الحلوه💐</td>\n",
       "      <td>IQ</td>\n",
       "    </tr>\n",
       "    <tr>\n",
       "      <th>1175496913145217024</th>\n",
       "      <td>@hmo2406 وين هل الغيبه  اخ محمد 🌸🌺</td>\n",
       "      <td>IQ</td>\n",
       "    </tr>\n",
       "    <tr>\n",
       "      <th>...</th>\n",
       "      <td>...</td>\n",
       "      <td>...</td>\n",
       "    </tr>\n",
       "    <tr>\n",
       "      <th>1019484980282580992</th>\n",
       "      <td>@Al_mhbaa_7 مبسوطين منك اللي باسطانا😅</td>\n",
       "      <td>BH</td>\n",
       "    </tr>\n",
       "    <tr>\n",
       "      <th>1021083283709407232</th>\n",
       "      <td>@Zzainabali @P_ameerah والله ماينده ابش يختي</td>\n",
       "      <td>BH</td>\n",
       "    </tr>\n",
       "    <tr>\n",
       "      <th>1017477537889431552</th>\n",
       "      <td>@Al_mhbaa_7 شو عملنا لك حنا تهربي مننا احنا مس...</td>\n",
       "      <td>BH</td>\n",
       "    </tr>\n",
       "    <tr>\n",
       "      <th>1022430374696239232</th>\n",
       "      <td>@haneenalmwla الله يبارك فيها وبالعافيه 😋😋😋</td>\n",
       "      <td>BH</td>\n",
       "    </tr>\n",
       "    <tr>\n",
       "      <th>1022409931029458944</th>\n",
       "      <td>@jolnar121 السحله ضيفي ي بتطلع لك سحليه😅😅</td>\n",
       "      <td>BH</td>\n",
       "    </tr>\n",
       "  </tbody>\n",
       "</table>\n",
       "<p>458197 rows × 2 columns</p>\n",
       "</div>"
      ],
      "text/plain": [
       "                                                                  text dialect\n",
       "id                                                                            \n",
       "1175358310087892992   @Nw8ieJUwaCAAreT لكن بالنهاية .. ينتفض .. يغير .      IQ\n",
       "1175416117793349632  @7zNqXP0yrODdRjK يعني هذا محسوب على البشر .. ح...      IQ\n",
       "1175450108898565888                    @KanaanRema مبين من كلامه خليجي      IQ\n",
       "1175471073770573824         @HAIDER76128900 يسلملي مرورك وروحك الحلوه💐      IQ\n",
       "1175496913145217024                 @hmo2406 وين هل الغيبه  اخ محمد 🌸🌺      IQ\n",
       "...                                                                ...     ...\n",
       "1019484980282580992              @Al_mhbaa_7 مبسوطين منك اللي باسطانا😅      BH\n",
       "1021083283709407232       @Zzainabali @P_ameerah والله ماينده ابش يختي      BH\n",
       "1017477537889431552  @Al_mhbaa_7 شو عملنا لك حنا تهربي مننا احنا مس...      BH\n",
       "1022430374696239232        @haneenalmwla الله يبارك فيها وبالعافيه 😋😋😋      BH\n",
       "1022409931029458944          @jolnar121 السحله ضيفي ي بتطلع لك سحليه😅😅      BH\n",
       "\n",
       "[458197 rows x 2 columns]"
      ]
     },
     "execution_count": 7,
     "metadata": {},
     "output_type": "execute_result"
    }
   ],
   "source": [
    "raw_df = pd.concat([text_df, label_df], axis=1)\n",
    "# raw_df = pd.merge(text_df, label_df, left_index=True, right_index=True)\n",
    "raw_df"
   ]
  },
  {
   "cell_type": "code",
   "execution_count": 8,
   "id": "dd0975df-62ea-4969-a95f-2a66ff92b535",
   "metadata": {},
   "outputs": [],
   "source": [
    "raw_df.to_csv(\"raw_df.csv\"\n",
    "              # , index=False\n",
    "             )"
   ]
  },
  {
   "cell_type": "code",
   "execution_count": null,
   "id": "56548e4d-3e92-4d0c-bb03-f17a55ad2f06",
   "metadata": {},
   "outputs": [],
   "source": []
  }
 ],
 "metadata": {
  "kernelspec": {
   "display_name": "Python 3 (ipykernel)",
   "language": "python",
   "name": "python3"
  },
  "language_info": {
   "codemirror_mode": {
    "name": "ipython",
    "version": 3
   },
   "file_extension": ".py",
   "mimetype": "text/x-python",
   "name": "python",
   "nbconvert_exporter": "python",
   "pygments_lexer": "ipython3",
   "version": "3.10.0"
  }
 },
 "nbformat": 4,
 "nbformat_minor": 5
}
