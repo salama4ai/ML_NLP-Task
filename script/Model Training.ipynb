{
 "cells": [
  {
   "cell_type": "code",
   "execution_count": 4,
   "id": "1c668593-473b-4e73-8898-a5966e1f187e",
   "metadata": {},
   "outputs": [],
   "source": [
    "import pandas as pd\n",
    "import matplotlib.pyplot as plt\n",
    "import seaborn as sns"
   ]
  },
  {
   "cell_type": "code",
   "execution_count": 5,
   "id": "61b1b0da-00ed-4844-9cef-caf517dcd0a4",
   "metadata": {},
   "outputs": [
    {
     "data": {
      "text/html": [
       "<div>\n",
       "<style scoped>\n",
       "    .dataframe tbody tr th:only-of-type {\n",
       "        vertical-align: middle;\n",
       "    }\n",
       "\n",
       "    .dataframe tbody tr th {\n",
       "        vertical-align: top;\n",
       "    }\n",
       "\n",
       "    .dataframe thead th {\n",
       "        text-align: right;\n",
       "    }\n",
       "</style>\n",
       "<table border=\"1\" class=\"dataframe\">\n",
       "  <thead>\n",
       "    <tr style=\"text-align: right;\">\n",
       "      <th></th>\n",
       "      <th>cleaned_txt</th>\n",
       "    </tr>\n",
       "    <tr>\n",
       "      <th>id</th>\n",
       "      <th></th>\n",
       "    </tr>\n",
       "  </thead>\n",
       "  <tbody>\n",
       "    <tr>\n",
       "      <th>1175358310087892992</th>\n",
       "      <td>لكن بالنهايه ينتفض يغير</td>\n",
       "    </tr>\n",
       "    <tr>\n",
       "      <th>1175416117793349632</th>\n",
       "      <td>يعني هذا محسوب علي البشر حيونه وحشيه وتطلبون ...</td>\n",
       "    </tr>\n",
       "    <tr>\n",
       "      <th>1175450108898565888</th>\n",
       "      <td>مبين من كلامه خليجي</td>\n",
       "    </tr>\n",
       "    <tr>\n",
       "      <th>1175471073770573824</th>\n",
       "      <td>يسلملي مرورك وروحك الحلوه</td>\n",
       "    </tr>\n",
       "    <tr>\n",
       "      <th>1175496913145217024</th>\n",
       "      <td>وين هل الغيبه اخ محمد</td>\n",
       "    </tr>\n",
       "    <tr>\n",
       "      <th>...</th>\n",
       "      <td>...</td>\n",
       "    </tr>\n",
       "    <tr>\n",
       "      <th>1019484980282580992</th>\n",
       "      <td>مبسوطين منك الي باسطانا</td>\n",
       "    </tr>\n",
       "    <tr>\n",
       "      <th>1021083283709407232</th>\n",
       "      <td>واله ماينده ابش يختي</td>\n",
       "    </tr>\n",
       "    <tr>\n",
       "      <th>1017477537889431552</th>\n",
       "      <td>شو عملنا لك حنا تهربي منا احنا مساكين ليش بتع...</td>\n",
       "    </tr>\n",
       "    <tr>\n",
       "      <th>1022430374696239232</th>\n",
       "      <td>اله يبارك فيها وبالعافيه</td>\n",
       "    </tr>\n",
       "    <tr>\n",
       "      <th>1022409931029458944</th>\n",
       "      <td>السحله ضيفي ي بتطلع لك سحليه</td>\n",
       "    </tr>\n",
       "  </tbody>\n",
       "</table>\n",
       "<p>458197 rows × 1 columns</p>\n",
       "</div>"
      ],
      "text/plain": [
       "                                                           cleaned_txt\n",
       "id                                                                    \n",
       "1175358310087892992                           لكن بالنهايه ينتفض يغير \n",
       "1175416117793349632   يعني هذا محسوب علي البشر حيونه وحشيه وتطلبون ...\n",
       "1175450108898565888                                مبين من كلامه خليجي\n",
       "1175471073770573824                         يسلملي مرورك وروحك الحلوه \n",
       "1175496913145217024                             وين هل الغيبه اخ محمد \n",
       "...                                                                ...\n",
       "1019484980282580992                           مبسوطين منك الي باسطانا \n",
       "1021083283709407232                               واله ماينده ابش يختي\n",
       "1017477537889431552   شو عملنا لك حنا تهربي منا احنا مساكين ليش بتع...\n",
       "1022430374696239232                          اله يبارك فيها وبالعافيه \n",
       "1022409931029458944                      السحله ضيفي ي بتطلع لك سحليه \n",
       "\n",
       "[458197 rows x 1 columns]"
      ]
     },
     "execution_count": 5,
     "metadata": {},
     "output_type": "execute_result"
    }
   ],
   "source": [
    "df = pd.read_csv(\"../csv_files/cleaned_txt_df.csv\", index_col=\"id\")\n",
    "df"
   ]
  },
  {
   "cell_type": "code",
   "execution_count": 2,
   "id": "29875fda-9dfb-488d-a6ba-15ec2f6f602b",
   "metadata": {},
   "outputs": [
    {
     "ename": "NameError",
     "evalue": "name 'raw_df' is not defined",
     "output_type": "error",
     "traceback": [
      "\u001b[1;31m---------------------------------------------------------------------------\u001b[0m",
      "\u001b[1;31mNameError\u001b[0m                                 Traceback (most recent call last)",
      "\u001b[1;32m~\\AppData\\Local\\Temp/ipykernel_13712/3713551690.py\u001b[0m in \u001b[0;36m<module>\u001b[1;34m\u001b[0m\n\u001b[1;32m----> 1\u001b[1;33m \u001b[0mval_cont\u001b[0m \u001b[1;33m=\u001b[0m \u001b[0mraw_df\u001b[0m\u001b[1;33m[\u001b[0m\u001b[1;34m\"dialect\"\u001b[0m\u001b[1;33m]\u001b[0m\u001b[1;33m.\u001b[0m\u001b[0mvalue_counts\u001b[0m\u001b[1;33m(\u001b[0m\u001b[1;33m)\u001b[0m\u001b[1;33m\u001b[0m\u001b[1;33m\u001b[0m\u001b[0m\n\u001b[0m\u001b[0;32m      2\u001b[0m \u001b[0mval_cont\u001b[0m\u001b[1;33m\u001b[0m\u001b[1;33m\u001b[0m\u001b[0m\n",
      "\u001b[1;31mNameError\u001b[0m: name 'raw_df' is not defined"
     ]
    }
   ],
   "source": [
    "val_cont = raw_df[\"dialect\"].value_counts()\n",
    "val_cont"
   ]
  },
  {
   "cell_type": "code",
   "execution_count": 4,
   "id": "e1daf5dd-99af-48a4-8718-079cc15bcfaa",
   "metadata": {},
   "outputs": [
    {
     "ename": "NameError",
     "evalue": "name 'val_cont' is not defined",
     "output_type": "error",
     "traceback": [
      "\u001b[1;31m---------------------------------------------------------------------------\u001b[0m",
      "\u001b[1;31mNameError\u001b[0m                                 Traceback (most recent call last)",
      "\u001b[1;32m~\\AppData\\Local\\Temp/ipykernel_13712/2378249923.py\u001b[0m in \u001b[0;36m<module>\u001b[1;34m\u001b[0m\n\u001b[1;32m----> 1\u001b[1;33m \u001b[0mplt\u001b[0m\u001b[1;33m.\u001b[0m\u001b[0mplot\u001b[0m\u001b[1;33m(\u001b[0m\u001b[0mval_cont\u001b[0m\u001b[1;33m,\u001b[0m \u001b[1;34m\"bo\"\u001b[0m\u001b[1;33m)\u001b[0m\u001b[1;33m\u001b[0m\u001b[1;33m\u001b[0m\u001b[0m\n\u001b[0m\u001b[0;32m      2\u001b[0m \u001b[0mplt\u001b[0m\u001b[1;33m.\u001b[0m\u001b[0myticks\u001b[0m\u001b[1;33m(\u001b[0m\u001b[0mmin\u001b[0m\u001b[1;33m(\u001b[0m\u001b[0mval_cont\u001b[0m\u001b[1;33m.\u001b[0m\u001b[0mvalues\u001b[0m\u001b[1;33m)\u001b[0m\u001b[1;33m,\u001b[0m  \u001b[1;33m)\u001b[0m\u001b[1;33m\u001b[0m\u001b[1;33m\u001b[0m\u001b[0m\n\u001b[0;32m      3\u001b[0m \u001b[0mplt\u001b[0m\u001b[1;33m.\u001b[0m\u001b[0mgrid\u001b[0m\u001b[1;33m(\u001b[0m\u001b[0maxis\u001b[0m\u001b[1;33m=\u001b[0m\u001b[1;34m\"both\"\u001b[0m\u001b[1;33m)\u001b[0m\u001b[1;33m\u001b[0m\u001b[1;33m\u001b[0m\u001b[0m\n",
      "\u001b[1;31mNameError\u001b[0m: name 'val_cont' is not defined"
     ]
    }
   ],
   "source": [
    "plt.plot(val_cont, \"bo\")\n",
    "plt.yticks(min(val_cont.values),  )\n",
    "plt.grid(axis=\"both\")"
   ]
  },
  {
   "cell_type": "code",
   "execution_count": null,
   "id": "5e8e983f-7ba1-47c0-907d-06ca075ab54b",
   "metadata": {},
   "outputs": [],
   "source": [
    "sns.catplot(kind=\"bar\", data=val_cont, x=val_cont.index, y=val_cont)"
   ]
  },
  {
   "cell_type": "code",
   "execution_count": null,
   "id": "cae5853c-589e-4e22-b6a3-47cc3e34b599",
   "metadata": {},
   "outputs": [],
   "source": []
  },
  {
   "cell_type": "code",
   "execution_count": null,
   "id": "b736248c-6730-49cc-a53e-b38ac90afc97",
   "metadata": {},
   "outputs": [],
   "source": []
  },
  {
   "cell_type": "code",
   "execution_count": null,
   "id": "6ba1b438-a453-41e4-b4e7-6a2d730f4858",
   "metadata": {},
   "outputs": [],
   "source": []
  },
  {
   "cell_type": "code",
   "execution_count": null,
   "id": "3b8df46b-5541-42a2-8b22-a67d28853ae4",
   "metadata": {},
   "outputs": [],
   "source": []
  },
  {
   "cell_type": "code",
   "execution_count": null,
   "id": "fa76bbc4-65ed-4a4b-97bb-ade43258fbcc",
   "metadata": {},
   "outputs": [],
   "source": []
  },
  {
   "cell_type": "code",
   "execution_count": null,
   "id": "81935fb6-f5a8-42f9-b0c4-5f8401d82982",
   "metadata": {},
   "outputs": [],
   "source": []
  },
  {
   "cell_type": "code",
   "execution_count": null,
   "id": "60b0d473-470c-436c-a3c0-9201f864006e",
   "metadata": {},
   "outputs": [],
   "source": []
  },
  {
   "cell_type": "code",
   "execution_count": null,
   "id": "2c68d2e7-78c3-4cd9-99a0-497c7bab4255",
   "metadata": {},
   "outputs": [],
   "source": []
  },
  {
   "cell_type": "code",
   "execution_count": null,
   "id": "da334bde-0551-4b28-8684-46ac5fbebbdf",
   "metadata": {},
   "outputs": [],
   "source": []
  },
  {
   "cell_type": "code",
   "execution_count": null,
   "id": "b7def4aa-3cac-4168-9a90-d764c8261edd",
   "metadata": {},
   "outputs": [],
   "source": []
  },
  {
   "cell_type": "code",
   "execution_count": null,
   "id": "0322d58a-d5bf-4009-afee-939a56937b82",
   "metadata": {},
   "outputs": [],
   "source": []
  },
  {
   "cell_type": "code",
   "execution_count": null,
   "id": "72671322-4c0a-4026-9d6c-b76e88b25a1d",
   "metadata": {},
   "outputs": [],
   "source": []
  },
  {
   "cell_type": "code",
   "execution_count": null,
   "id": "066d5d53-ec00-47fb-afc7-a6ffd014f48e",
   "metadata": {},
   "outputs": [],
   "source": []
  },
  {
   "cell_type": "code",
   "execution_count": null,
   "id": "88b9e59e-68c2-40a1-a7b2-1e64f9573576",
   "metadata": {},
   "outputs": [],
   "source": []
  },
  {
   "cell_type": "code",
   "execution_count": null,
   "id": "1a736e2b-d77a-44ba-81c8-8ea3da4268f6",
   "metadata": {},
   "outputs": [],
   "source": []
  },
  {
   "cell_type": "code",
   "execution_count": null,
   "id": "1fe65dbf-d63e-4744-8fa3-873571539c8c",
   "metadata": {},
   "outputs": [],
   "source": []
  },
  {
   "cell_type": "code",
   "execution_count": null,
   "id": "40fb6510-b4d0-474a-8600-81eb5957f1d5",
   "metadata": {},
   "outputs": [],
   "source": []
  },
  {
   "cell_type": "code",
   "execution_count": null,
   "id": "7fbae062-ebe0-418e-8e7c-40b7206a089a",
   "metadata": {},
   "outputs": [],
   "source": []
  },
  {
   "cell_type": "code",
   "execution_count": null,
   "id": "095c4799-dd34-4017-8cb3-911e1ff8f278",
   "metadata": {},
   "outputs": [],
   "source": []
  },
  {
   "cell_type": "code",
   "execution_count": null,
   "id": "6b973d5b-28d5-4077-8b19-7f2d2562ec6c",
   "metadata": {},
   "outputs": [],
   "source": []
  },
  {
   "cell_type": "code",
   "execution_count": null,
   "id": "745f51c5-bb19-4ffe-9b26-e084e2665dc1",
   "metadata": {},
   "outputs": [],
   "source": []
  },
  {
   "cell_type": "code",
   "execution_count": null,
   "id": "4ec39913-da14-4298-96f6-fc648e1970e8",
   "metadata": {},
   "outputs": [],
   "source": []
  },
  {
   "cell_type": "code",
   "execution_count": null,
   "id": "40ac227e-0fd7-4d72-873c-19c067240194",
   "metadata": {},
   "outputs": [],
   "source": []
  },
  {
   "cell_type": "code",
   "execution_count": null,
   "id": "2770018a-2e9d-4b93-a619-3088b996bc72",
   "metadata": {},
   "outputs": [],
   "source": []
  },
  {
   "cell_type": "code",
   "execution_count": 1,
   "id": "1c8b75f9-4a1b-4853-8493-2fd904e635e4",
   "metadata": {},
   "outputs": [],
   "source": [
    "# df = pd.merge(txt_df, label_df, left_index=True, right_index=True)\n",
    "# df = pd.concat([txt_df, label_df], axis=1)\n",
    "# df"
   ]
  },
  {
   "cell_type": "code",
   "execution_count": null,
   "id": "35a8a264-cf4b-4b9e-8640-20489de3875f",
   "metadata": {},
   "outputs": [],
   "source": []
  }
 ],
 "metadata": {
  "kernelspec": {
   "display_name": "Python 3 (ipykernel)",
   "language": "python",
   "name": "python3"
  },
  "language_info": {
   "codemirror_mode": {
    "name": "ipython",
    "version": 3
   },
   "file_extension": ".py",
   "mimetype": "text/x-python",
   "name": "python",
   "nbconvert_exporter": "python",
   "pygments_lexer": "ipython3",
   "version": "3.10.0"
  }
 },
 "nbformat": 4,
 "nbformat_minor": 5
}
